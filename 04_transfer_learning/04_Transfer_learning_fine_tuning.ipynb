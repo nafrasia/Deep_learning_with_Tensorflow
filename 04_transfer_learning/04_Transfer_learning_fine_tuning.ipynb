{
  "nbformat": 4,
  "nbformat_minor": 0,
  "metadata": {
    "colab": {
      "provenance": [],
      "gpuType": "T4"
    },
    "kernelspec": {
      "name": "python3",
      "display_name": "Python 3"
    },
    "language_info": {
      "name": "python"
    },
    "accelerator": "GPU"
  },
  "cells": [
    {
      "cell_type": "markdown",
      "source": [
        "# Transfer learning part 2: Fine-tuning"
      ],
      "metadata": {
        "id": "t9C2adztRP6i"
      }
    },
    {
      "cell_type": "code",
      "source": [
        "import os\n",
        "import numpy as np\n",
        "import matplotlib.pyplot as plt\n",
        "from imageio.v2 import imread\n",
        "import tensorflow as tf\n",
        "tf.random.set_seed(42)"
      ],
      "metadata": {
        "id": "XWKb3lwqXT__"
      },
      "execution_count": 1,
      "outputs": []
    },
    {
      "cell_type": "code",
      "source": [
        "train_dir = \"/content/drive/MyDrive/Colab_data/food/train\"\n",
        "test_dir = \"/content/drive/MyDrive/Colab_data/food/test\""
      ],
      "metadata": {
        "id": "QvEOMRZuVJOB"
      },
      "execution_count": 2,
      "outputs": []
    },
    {
      "cell_type": "code",
      "source": [
        "IMG_HEIGHT, IMG_WIDTH, CHANNELS = 224, 224, 3"
      ],
      "metadata": {
        "id": "RuyxUxQhXidT"
      },
      "execution_count": 3,
      "outputs": []
    },
    {
      "cell_type": "code",
      "source": [
        "train_data = tf.keras.utils.image_dataset_from_directory(train_dir,\n",
        "                                                         labels = 'inferred',\n",
        "                                                         label_mode = 'int',\n",
        "                                                         color_mode = 'rgb',\n",
        "                                                         validation_split = 0.8,\n",
        "                                                         seed = 222,\n",
        "                                                         subset = 'training',\n",
        "                                                         image_size = (IMG_HEIGHT, IMG_WIDTH),\n",
        "                                                         batch_size = 32)\n",
        "valid_data = tf.keras.utils.image_dataset_from_directory(train_dir,\n",
        "                                                         labels = 'inferred',\n",
        "                                                         label_mode = 'int',\n",
        "                                                         color_mode = 'rgb',\n",
        "                                                         validation_split = 0.8,\n",
        "                                                         seed = 222,\n",
        "                                                         subset = 'validation',\n",
        "                                                         image_size = (IMG_HEIGHT, IMG_WIDTH),\n",
        "                                                         batch_size = 32)\n",
        "test_data = tf.keras.utils.image_dataset_from_directory(test_dir,\n",
        "                                                         labels = 'inferred',\n",
        "                                                         label_mode = 'int',\n",
        "                                                         color_mode = 'rgb',\n",
        "                                                         image_size = (IMG_HEIGHT, IMG_WIDTH),\n",
        "                                                         batch_size = 32)"
      ],
      "metadata": {
        "colab": {
          "base_uri": "https://localhost:8080/"
        },
        "id": "uQDJHXLfXMYC",
        "outputId": "aa8b7e7d-fa8b-488b-d67b-53b00acad6f7"
      },
      "execution_count": 4,
      "outputs": [
        {
          "output_type": "stream",
          "name": "stdout",
          "text": [
            "Found 4827 files belonging to 7 classes.\n",
            "Using 966 files for training.\n",
            "Found 4827 files belonging to 7 classes.\n",
            "Using 3861 files for validation.\n",
            "Found 1613 files belonging to 7 classes.\n"
          ]
        }
      ]
    },
    {
      "cell_type": "code",
      "source": [
        "class_names = train_data.class_names"
      ],
      "metadata": {
        "id": "Lg3ZYwNKbSiz"
      },
      "execution_count": 5,
      "outputs": []
    },
    {
      "cell_type": "markdown",
      "source": [
        "## Visualize data"
      ],
      "metadata": {
        "id": "VtuZ2gvDchZA"
      }
    },
    {
      "cell_type": "markdown",
      "source": [
        "We use the same functions we used in previous notebooks. We could potentially create a python package/module to load from!"
      ],
      "metadata": {
        "id": "uE269ZojckxQ"
      }
    },
    {
      "cell_type": "code",
      "source": [
        "def visualize_single_image(dirpath: str, ax: np.ndarray =None) -> None:\n",
        "  ''' Visualizes a single random image from a directory of images '''\n",
        "  classes = os.listdir(dirpath)\n",
        "  class_choice = np.random.randint(0, len(classes), 1)[0] # Pick a random class\n",
        "  images = os.listdir(os.path.join(dirpath,classes[class_choice])) # get a list of all images in the class directory\n",
        "  img_choice = np.random.randint(0, len(images), 1)[0] # Pick a random image\n",
        "  image = imread(os.path.join(os.path.join(dirpath,classes[class_choice]),images[img_choice])) #load the image\n",
        "  if ax is None:\n",
        "    fig, ax = plt.subplots()\n",
        "  ax.imshow(image) # visualize the image\n",
        "  ax.set_title(f'{classes[class_choice]}') # Add class name as the title\n",
        "  ax.set_axis_off()\n",
        "\n",
        "def create_img_grid(dirpath: str, num_of_imgs: int) -> None:\n",
        "  ''' Create a grid of images from a directory '''\n",
        "\n",
        "  # Get number of rows and columns for the image grid\n",
        "  n_rows = int(np.sqrt(num_of_imgs))\n",
        "  if (num_of_imgs % n_rows):\n",
        "    n_cols = n_rows + 1\n",
        "  else:\n",
        "    n_cols = n_rows\n",
        "\n",
        "  size_factor = 2 # length/height of each image\n",
        "\n",
        "  # Create a grid and visualize the images on the grid\n",
        "  fig, ax = plt.subplots(n_rows, n_cols, figsize=(size_factor*n_rows, size_factor*n_cols))\n",
        "  ax_flat = ax.flatten()\n",
        "  for i in range(num_of_imgs):\n",
        "    visualize_single_image(dirpath, ax = ax_flat[i])"
      ],
      "metadata": {
        "id": "Dxi2WQ1Obmxh"
      },
      "execution_count": null,
      "outputs": []
    },
    {
      "cell_type": "code",
      "source": [
        "create_img_grid(train_dir, 4)"
      ],
      "metadata": {
        "colab": {
          "base_uri": "https://localhost:8080/",
          "height": 347
        },
        "id": "zjOoAHpxbzlv",
        "outputId": "65e38232-4830-47c5-c127-3fd31e94e37c"
      },
      "execution_count": null,
      "outputs": [
        {
          "output_type": "display_data",
          "data": {
            "text/plain": [
              "<Figure size 400x400 with 4 Axes>"
            ],
            "image/png": "[encoded data removed]"
          },
          "metadata": {}
        }
      ]
    },
    {
      "cell_type": "markdown",
      "source": [
        "## Perform classification using Sequential API\n",
        "\n",
        "Using Keras Hub has issues with the new tensorflow as it uses Keras 3.0 instead of 2.0. Therefore, in previous notebooks, I used the functional API.\n",
        "Going through the Tensorflow documentation, however, I found the proper way to do feature extraction using Sequential API. I test that here"
      ],
      "metadata": {
        "id": "0IjP-qJ2cMVy"
      }
    },
    {
      "cell_type": "code",
      "source": [
        "# Load a convolutional base with pre-trained weights\n",
        "base_model = tf.keras.applications.efficientnet.EfficientNetB0(include_top = False,\n",
        "                                                               weights = 'imagenet',\n",
        "                                                               input_shape = (IMG_HEIGHT, IMG_WIDTH, CHANNELS),\n",
        "                                                               pooling = 'avg')\n",
        "\n",
        "# Freeze the base model\n",
        "base_model.trainable = False\n",
        "\n",
        "# Use a Sequential model to add a trainable classifier on top\n",
        "model_0 = tf.keras.Sequential([\n",
        "    tf.keras.Input(shape=(IMG_HEIGHT, IMG_WIDTH, CHANNELS)),\n",
        "    tf.keras.layers.RandomContrast((0,1)),\n",
        "    tf.keras.layers.RandomRotation(0.1),\n",
        "    base_model,\n",
        "    tf.keras.layers.Dense(7, activation= 'softmax'),\n",
        "])\n",
        "\n",
        "model_0.compile(loss = tf.keras.losses.SparseCategoricalCrossentropy(),\n",
        "                optimizer = tf.keras.optimizers.Adam(),\n",
        "                metrics = ['accuracy'])"
      ],
      "metadata": {
        "colab": {
          "base_uri": "https://localhost:8080/"
        },
        "id": "EwMO3ZzlkgcS",
        "outputId": "1ec449c6-1294-41d9-e4b5-25cd3ef61574"
      },
      "execution_count": null,
      "outputs": [
        {
          "output_type": "stream",
          "name": "stdout",
          "text": [
            "Downloading data from https://storage.googleapis.com/keras-applications/efficientnetb0_notop.h5\n",
            "\u001b[1m16705208/16705208\u001b[0m \u001b[32m━━━━━━━━━━━━━━━━━━━━\u001b[0m\u001b[37m\u001b[0m \u001b[1m2s\u001b[0m 0us/step\n"
          ]
        }
      ]
    },
    {
      "cell_type": "code",
      "source": [
        "model_0.summary()"
      ],
      "metadata": {
        "colab": {
          "base_uri": "https://localhost:8080/",
          "height": 289
        },
        "id": "xrUawZ5jnLLR",
        "outputId": "440c108c-484b-4ef7-b358-d71153ad1181"
      },
      "execution_count": null,
      "outputs": [
        {
          "output_type": "display_data",
          "data": {
            "text/plain": [
              "\u001b[1mModel: \"sequential\"\u001b[0m\n"
            ],
            "text/html": [
              "<pre style=\"white-space:pre;overflow-x:auto;line-height:normal;font-family:Menlo,'DejaVu Sans Mono',consolas,'Courier New',monospace\"><span style=\"font-weight: bold\">Model: \"sequential\"</span>\n",
              "</pre>\n"
            ]
          },
          "metadata": {}
        },
        {
          "output_type": "display_data",
          "data": {
            "text/plain": [
              "┏━━━━━━━━━━━━━━━━━━━━━━━━━━━━━━━━━━━━━━┳━━━━━━━━━━━━━━━━━━━━━━━━━━━━━┳━━━━━━━━━━━━━━━━━┓\n",
              "┃\u001b[1m \u001b[0m\u001b[1mLayer (type)                        \u001b[0m\u001b[1m \u001b[0m┃\u001b[1m \u001b[0m\u001b[1mOutput Shape               \u001b[0m\u001b[1m \u001b[0m┃\u001b[1m \u001b[0m\u001b[1m        Param #\u001b[0m\u001b[1m \u001b[0m┃\n",
              "┡━━━━━━━━━━━━━━━━━━━━━━━━━━━━━━━━━━━━━━╇━━━━━━━━━━━━━━━━━━━━━━━━━━━━━╇━━━━━━━━━━━━━━━━━┩\n",
              "│ random_contrast (\u001b[38;5;33mRandomContrast\u001b[0m)     │ (\u001b[38;5;45mNone\u001b[0m, \u001b[38;5;34m224\u001b[0m, \u001b[38;5;34m224\u001b[0m, \u001b[38;5;34m3\u001b[0m)         │               \u001b[38;5;34m0\u001b[0m │\n",
              "├──────────────────────────────────────┼─────────────────────────────┼─────────────────┤\n",
              "│ random_rotation (\u001b[38;5;33mRandomRotation\u001b[0m)     │ (\u001b[38;5;45mNone\u001b[0m, \u001b[38;5;34m224\u001b[0m, \u001b[38;5;34m224\u001b[0m, \u001b[38;5;34m3\u001b[0m)         │               \u001b[38;5;34m0\u001b[0m │\n",
              "├──────────────────────────────────────┼─────────────────────────────┼─────────────────┤\n",
              "│ efficientnetb0 (\u001b[38;5;33mFunctional\u001b[0m)          │ (\u001b[38;5;45mNone\u001b[0m, \u001b[38;5;34m1280\u001b[0m)                │       \u001b[38;5;34m4,049,571\u001b[0m │\n",
              "├──────────────────────────────────────┼─────────────────────────────┼─────────────────┤\n",
              "│ dense (\u001b[38;5;33mDense\u001b[0m)                        │ (\u001b[38;5;45mNone\u001b[0m, \u001b[38;5;34m7\u001b[0m)                   │           \u001b[38;5;34m8,967\u001b[0m │\n",
              "└──────────────────────────────────────┴─────────────────────────────┴─────────────────┘\n"
            ],
            "text/html": [
              "<pre style=\"white-space:pre;overflow-x:auto;line-height:normal;font-family:Menlo,'DejaVu Sans Mono',consolas,'Courier New',monospace\">┏━━━━━━━━━━━━━━━━━━━━━━━━━━━━━━━━━━━━━━┳━━━━━━━━━━━━━━━━━━━━━━━━━━━━━┳━━━━━━━━━━━━━━━━━┓\n",
              "┃<span style=\"font-weight: bold\"> Layer (type)                         </span>┃<span style=\"font-weight: bold\"> Output Shape                </span>┃<span style=\"font-weight: bold\">         Param # </span>┃\n",
              "┡━━━━━━━━━━━━━━━━━━━━━━━━━━━━━━━━━━━━━━╇━━━━━━━━━━━━━━━━━━━━━━━━━━━━━╇━━━━━━━━━━━━━━━━━┩\n",
              "│ random_contrast (<span style=\"color: #0087ff; text-decoration-color: #0087ff\">RandomContrast</span>)     │ (<span style=\"color: #00d7ff; text-decoration-color: #00d7ff\">None</span>, <span style=\"color: #00af00; text-decoration-color: #00af00\">224</span>, <span style=\"color: #00af00; text-decoration-color: #00af00\">224</span>, <span style=\"color: #00af00; text-decoration-color: #00af00\">3</span>)         │               <span style=\"color: #00af00; text-decoration-color: #00af00\">0</span> │\n",
              "├──────────────────────────────────────┼─────────────────────────────┼─────────────────┤\n",
              "│ random_rotation (<span style=\"color: #0087ff; text-decoration-color: #0087ff\">RandomRotation</span>)     │ (<span style=\"color: #00d7ff; text-decoration-color: #00d7ff\">None</span>, <span style=\"color: #00af00; text-decoration-color: #00af00\">224</span>, <span style=\"color: #00af00; text-decoration-color: #00af00\">224</span>, <span style=\"color: #00af00; text-decoration-color: #00af00\">3</span>)         │               <span style=\"color: #00af00; text-decoration-color: #00af00\">0</span> │\n",
              "├──────────────────────────────────────┼─────────────────────────────┼─────────────────┤\n",
              "│ efficientnetb0 (<span style=\"color: #0087ff; text-decoration-color: #0087ff\">Functional</span>)          │ (<span style=\"color: #00d7ff; text-decoration-color: #00d7ff\">None</span>, <span style=\"color: #00af00; text-decoration-color: #00af00\">1280</span>)                │       <span style=\"color: #00af00; text-decoration-color: #00af00\">4,049,571</span> │\n",
              "├──────────────────────────────────────┼─────────────────────────────┼─────────────────┤\n",
              "│ dense (<span style=\"color: #0087ff; text-decoration-color: #0087ff\">Dense</span>)                        │ (<span style=\"color: #00d7ff; text-decoration-color: #00d7ff\">None</span>, <span style=\"color: #00af00; text-decoration-color: #00af00\">7</span>)                   │           <span style=\"color: #00af00; text-decoration-color: #00af00\">8,967</span> │\n",
              "└──────────────────────────────────────┴─────────────────────────────┴─────────────────┘\n",
              "</pre>\n"
            ]
          },
          "metadata": {}
        },
        {
          "output_type": "display_data",
          "data": {
            "text/plain": [
              "\u001b[1m Total params: \u001b[0m\u001b[38;5;34m4,076,474\u001b[0m (15.55 MB)\n"
            ],
            "text/html": [
              "<pre style=\"white-space:pre;overflow-x:auto;line-height:normal;font-family:Menlo,'DejaVu Sans Mono',consolas,'Courier New',monospace\"><span style=\"font-weight: bold\"> Total params: </span><span style=\"color: #00af00; text-decoration-color: #00af00\">4,076,474</span> (15.55 MB)\n",
              "</pre>\n"
            ]
          },
          "metadata": {}
        },
        {
          "output_type": "display_data",
          "data": {
            "text/plain": [
              "\u001b[1m Trainable params: \u001b[0m\u001b[38;5;34m8,967\u001b[0m (35.03 KB)\n"
            ],
            "text/html": [
              "<pre style=\"white-space:pre;overflow-x:auto;line-height:normal;font-family:Menlo,'DejaVu Sans Mono',consolas,'Courier New',monospace\"><span style=\"font-weight: bold\"> Trainable params: </span><span style=\"color: #00af00; text-decoration-color: #00af00\">8,967</span> (35.03 KB)\n",
              "</pre>\n"
            ]
          },
          "metadata": {}
        },
        {
          "output_type": "display_data",
          "data": {
            "text/plain": [
              "\u001b[1m Non-trainable params: \u001b[0m\u001b[38;5;34m4,049,571\u001b[0m (15.45 MB)\n"
            ],
            "text/html": [
              "<pre style=\"white-space:pre;overflow-x:auto;line-height:normal;font-family:Menlo,'DejaVu Sans Mono',consolas,'Courier New',monospace\"><span style=\"font-weight: bold\"> Non-trainable params: </span><span style=\"color: #00af00; text-decoration-color: #00af00\">4,049,571</span> (15.45 MB)\n",
              "</pre>\n"
            ]
          },
          "metadata": {}
        },
        {
          "output_type": "display_data",
          "data": {
            "text/plain": [
              "\u001b[1m Optimizer params: \u001b[0m\u001b[38;5;34m17,936\u001b[0m (70.07 KB)\n"
            ],
            "text/html": [
              "<pre style=\"white-space:pre;overflow-x:auto;line-height:normal;font-family:Menlo,'DejaVu Sans Mono',consolas,'Courier New',monospace\"><span style=\"font-weight: bold\"> Optimizer params: </span><span style=\"color: #00af00; text-decoration-color: #00af00\">17,936</span> (70.07 KB)\n",
              "</pre>\n"
            ]
          },
          "metadata": {}
        }
      ]
    },
    {
      "cell_type": "code",
      "source": [
        "# Configure data to optimize model performance\n",
        "AUTOTUNE = tf.data.AUTOTUNE\n",
        "\n",
        "train_data = train_data.cache().prefetch(buffer_size=AUTOTUNE)\n",
        "valid_data = valid_data.cache().prefetch(buffer_size=AUTOTUNE)\n",
        "\n",
        "# Train model\n",
        "history_0 = model_0.fit(train_data, epochs = 10, validation_data = valid_data)"
      ],
      "metadata": {
        "colab": {
          "base_uri": "https://localhost:8080/"
        },
        "id": "xCk9QIU_mxNp",
        "outputId": "cd66b958-4543-40f7-ceb8-62ded851deb0"
      },
      "execution_count": null,
      "outputs": [
        {
          "output_type": "stream",
          "name": "stdout",
          "text": [
            "Epoch 1/10\n",
            "\u001b[1m31/31\u001b[0m \u001b[32m━━━━━━━━━━━━━━━━━━━━\u001b[0m\u001b[37m\u001b[0m \u001b[1m1892s\u001b[0m 63s/step - accuracy: 0.4087 - loss: 1.6618 - val_accuracy: 0.6814 - val_loss: 1.1103\n",
            "Epoch 2/10\n",
            "\u001b[1m31/31\u001b[0m \u001b[32m━━━━━━━━━━━━━━━━━━━━\u001b[0m\u001b[37m\u001b[0m \u001b[1m10s\u001b[0m 344ms/step - accuracy: 0.7261 - loss: 1.0247 - val_accuracy: 0.7410 - val_loss: 0.8628\n",
            "Epoch 3/10\n",
            "\u001b[1m31/31\u001b[0m \u001b[32m━━━━━━━━━━━━━━━━━━━━\u001b[0m\u001b[37m\u001b[0m \u001b[1m11s\u001b[0m 350ms/step - accuracy: 0.7608 - loss: 0.8268 - val_accuracy: 0.7687 - val_loss: 0.7635\n",
            "Epoch 4/10\n",
            "\u001b[1m31/31\u001b[0m \u001b[32m━━━━━━━━━━━━━━━━━━━━\u001b[0m\u001b[37m\u001b[0m \u001b[1m12s\u001b[0m 411ms/step - accuracy: 0.7833 - loss: 0.7449 - val_accuracy: 0.7786 - val_loss: 0.7074\n",
            "Epoch 5/10\n",
            "\u001b[1m31/31\u001b[0m \u001b[32m━━━━━━━━━━━━━━━━━━━━\u001b[0m\u001b[37m\u001b[0m \u001b[1m18s\u001b[0m 339ms/step - accuracy: 0.8226 - loss: 0.6421 - val_accuracy: 0.7874 - val_loss: 0.6730\n",
            "Epoch 6/10\n",
            "\u001b[1m31/31\u001b[0m \u001b[32m━━━━━━━━━━━━━━━━━━━━\u001b[0m\u001b[37m\u001b[0m \u001b[1m10s\u001b[0m 339ms/step - accuracy: 0.8260 - loss: 0.5969 - val_accuracy: 0.7902 - val_loss: 0.6491\n",
            "Epoch 7/10\n",
            "\u001b[1m31/31\u001b[0m \u001b[32m━━━━━━━━━━━━━━━━━━━━\u001b[0m\u001b[37m\u001b[0m \u001b[1m10s\u001b[0m 344ms/step - accuracy: 0.8425 - loss: 0.5671 - val_accuracy: 0.7923 - val_loss: 0.6361\n",
            "Epoch 8/10\n",
            "\u001b[1m31/31\u001b[0m \u001b[32m━━━━━━━━━━━━━━━━━━━━\u001b[0m\u001b[37m\u001b[0m \u001b[1m10s\u001b[0m 345ms/step - accuracy: 0.8552 - loss: 0.5134 - val_accuracy: 0.7964 - val_loss: 0.6209\n",
            "Epoch 9/10\n",
            "\u001b[1m31/31\u001b[0m \u001b[32m━━━━━━━━━━━━━━━━━━━━\u001b[0m\u001b[37m\u001b[0m \u001b[1m23s\u001b[0m 415ms/step - accuracy: 0.8804 - loss: 0.4716 - val_accuracy: 0.7964 - val_loss: 0.6129\n",
            "Epoch 10/10\n",
            "\u001b[1m31/31\u001b[0m \u001b[32m━━━━━━━━━━━━━━━━━━━━\u001b[0m\u001b[37m\u001b[0m \u001b[1m18s\u001b[0m 343ms/step - accuracy: 0.8799 - loss: 0.4517 - val_accuracy: 0.8011 - val_loss: 0.6010\n"
          ]
        },
        {
          "output_type": "execute_result",
          "data": {
            "text/plain": [
              "<keras.src.callbacks.history.History at 0x7b33bd056b90>"
            ]
          },
          "metadata": {},
          "execution_count": 12
        }
      ]
    },
    {
      "cell_type": "code",
      "source": [
        "test_loss, test_acc = model_0.evaluate(test_data)"
      ],
      "metadata": {
        "colab": {
          "base_uri": "https://localhost:8080/"
        },
        "id": "CeturEg7wDy-",
        "outputId": "d068f78e-dd7f-45c5-f447-90b668b1c216"
      },
      "execution_count": null,
      "outputs": [
        {
          "output_type": "stream",
          "name": "stdout",
          "text": [
            "\u001b[1m51/51\u001b[0m \u001b[32m━━━━━━━━━━━━━━━━━━━━\u001b[0m\u001b[37m\u001b[0m \u001b[1m647s\u001b[0m 13s/step - accuracy: 0.7975 - loss: 0.6196\n"
          ]
        }
      ]
    },
    {
      "cell_type": "markdown",
      "source": [
        "## Going back to Functional API"
      ],
      "metadata": {
        "id": "2VwNxViWzISN"
      }
    },
    {
      "cell_type": "code",
      "source": [
        "def augmentator(data):\n",
        "  aug_layer = tf.keras.Sequential([\n",
        "      tf.keras.layers.RandomContrast((0,1)),\n",
        "      tf.keras.layers.RandomRotation(0.1)\n",
        "  ])\n",
        "\n",
        "  return aug_layer(data)\n",
        "\n",
        "def create_base_model(num_of_classes, img_height, img_width, color_mode):\n",
        "  ''' Create a feature extraction model based on EfficientNetB0 '''\n",
        "\n",
        "  inputs = tf.keras.Input(shape = (img_height, img_width, color_mode))\n",
        "\n",
        "  # Data augmentation layer\n",
        "  x = augmentator(inputs)\n",
        "\n",
        "  # Load a convolutional base with pre-trained weights\n",
        "  base_model = tf.keras.applications.efficientnet.EfficientNetB0(include_top = False,\n",
        "                                                                weights = 'imagenet',\n",
        "                                                                input_shape = (img_height, img_width, color_mode),\n",
        "                                                                pooling = 'avg')\n",
        "\n",
        "  # Freeze the base model\n",
        "  base_model.trainable = False\n",
        "  # pass data to base model\n",
        "  x = base_model(x, training=False)\n",
        "\n",
        "  # Create output layer\n",
        "  if num_of_classes == 2:\n",
        "    prediction_layer = tf.keras.layers.Dense(num_of_classes-1, activation='sigmoid')\n",
        "  else:\n",
        "    prediction_layer = tf.keras.layers.Dense(num_of_classes, activation='softmax')\n",
        "  # Pass data through output layer\n",
        "  outputs = prediction_layer(x)\n",
        "\n",
        "  # Create model\n",
        "  model = tf.keras.Model(inputs, outputs)\n",
        "  return model"
      ],
      "metadata": {
        "id": "nJJNjqNhzpUA"
      },
      "execution_count": null,
      "outputs": []
    },
    {
      "cell_type": "code",
      "source": [
        "model_1 = create_base_model(len(class_names), IMG_HEIGHT, IMG_WIDTH, CHANNELS)"
      ],
      "metadata": {
        "id": "mWdA0GSU2OqU",
        "colab": {
          "base_uri": "https://localhost:8080/"
        },
        "outputId": "31d53ef2-98bc-4de7-ecb6-83bd288c5108"
      },
      "execution_count": null,
      "outputs": [
        {
          "output_type": "stream",
          "name": "stdout",
          "text": [
            "Downloading data from https://storage.googleapis.com/keras-applications/efficientnetb0_notop.h5\n",
            "\u001b[1m16705208/16705208\u001b[0m \u001b[32m━━━━━━━━━━━━━━━━━━━━\u001b[0m\u001b[37m\u001b[0m \u001b[1m2s\u001b[0m 0us/step\n"
          ]
        }
      ]
    },
    {
      "cell_type": "code",
      "source": [
        "model_1.summary()"
      ],
      "metadata": {
        "id": "1kUwRqbj4yyu",
        "outputId": "90e26cc4-2b47-4020-abdb-3192e2d1b1d8",
        "colab": {
          "base_uri": "https://localhost:8080/",
          "height": 272
        }
      },
      "execution_count": null,
      "outputs": [
        {
          "output_type": "display_data",
          "data": {
            "text/plain": [
              "\u001b[1mModel: \"functional_1\"\u001b[0m\n"
            ],
            "text/html": [
              "<pre style=\"white-space:pre;overflow-x:auto;line-height:normal;font-family:Menlo,'DejaVu Sans Mono',consolas,'Courier New',monospace\"><span style=\"font-weight: bold\">Model: \"functional_1\"</span>\n",
              "</pre>\n"
            ]
          },
          "metadata": {}
        },
        {
          "output_type": "display_data",
          "data": {
            "text/plain": [
              "┏━━━━━━━━━━━━━━━━━━━━━━━━━━━━━━━━━━━━━━┳━━━━━━━━━━━━━━━━━━━━━━━━━━━━━┳━━━━━━━━━━━━━━━━━┓\n",
              "┃\u001b[1m \u001b[0m\u001b[1mLayer (type)                        \u001b[0m\u001b[1m \u001b[0m┃\u001b[1m \u001b[0m\u001b[1mOutput Shape               \u001b[0m\u001b[1m \u001b[0m┃\u001b[1m \u001b[0m\u001b[1m        Param #\u001b[0m\u001b[1m \u001b[0m┃\n",
              "┡━━━━━━━━━━━━━━━━━━━━━━━━━━━━━━━━━━━━━━╇━━━━━━━━━━━━━━━━━━━━━━━━━━━━━╇━━━━━━━━━━━━━━━━━┩\n",
              "│ input_layer (\u001b[38;5;33mInputLayer\u001b[0m)             │ (\u001b[38;5;45mNone\u001b[0m, \u001b[38;5;34m224\u001b[0m, \u001b[38;5;34m224\u001b[0m, \u001b[38;5;34m3\u001b[0m)         │               \u001b[38;5;34m0\u001b[0m │\n",
              "├──────────────────────────────────────┼─────────────────────────────┼─────────────────┤\n",
              "│ sequential (\u001b[38;5;33mSequential\u001b[0m)              │ (\u001b[38;5;45mNone\u001b[0m, \u001b[38;5;34m224\u001b[0m, \u001b[38;5;34m224\u001b[0m, \u001b[38;5;34m3\u001b[0m)         │               \u001b[38;5;34m0\u001b[0m │\n",
              "├──────────────────────────────────────┼─────────────────────────────┼─────────────────┤\n",
              "│ efficientnetb0 (\u001b[38;5;33mFunctional\u001b[0m)          │ (\u001b[38;5;45mNone\u001b[0m, \u001b[38;5;34m1280\u001b[0m)                │       \u001b[38;5;34m4,049,571\u001b[0m │\n",
              "├──────────────────────────────────────┼─────────────────────────────┼─────────────────┤\n",
              "│ dense (\u001b[38;5;33mDense\u001b[0m)                        │ (\u001b[38;5;45mNone\u001b[0m, \u001b[38;5;34m7\u001b[0m)                   │           \u001b[38;5;34m8,967\u001b[0m │\n",
              "└──────────────────────────────────────┴─────────────────────────────┴─────────────────┘\n"
            ],
            "text/html": [
              "<pre style=\"white-space:pre;overflow-x:auto;line-height:normal;font-family:Menlo,'DejaVu Sans Mono',consolas,'Courier New',monospace\">┏━━━━━━━━━━━━━━━━━━━━━━━━━━━━━━━━━━━━━━┳━━━━━━━━━━━━━━━━━━━━━━━━━━━━━┳━━━━━━━━━━━━━━━━━┓\n",
              "┃<span style=\"font-weight: bold\"> Layer (type)                         </span>┃<span style=\"font-weight: bold\"> Output Shape                </span>┃<span style=\"font-weight: bold\">         Param # </span>┃\n",
              "┡━━━━━━━━━━━━━━━━━━━━━━━━━━━━━━━━━━━━━━╇━━━━━━━━━━━━━━━━━━━━━━━━━━━━━╇━━━━━━━━━━━━━━━━━┩\n",
              "│ input_layer (<span style=\"color: #0087ff; text-decoration-color: #0087ff\">InputLayer</span>)             │ (<span style=\"color: #00d7ff; text-decoration-color: #00d7ff\">None</span>, <span style=\"color: #00af00; text-decoration-color: #00af00\">224</span>, <span style=\"color: #00af00; text-decoration-color: #00af00\">224</span>, <span style=\"color: #00af00; text-decoration-color: #00af00\">3</span>)         │               <span style=\"color: #00af00; text-decoration-color: #00af00\">0</span> │\n",
              "├──────────────────────────────────────┼─────────────────────────────┼─────────────────┤\n",
              "│ sequential (<span style=\"color: #0087ff; text-decoration-color: #0087ff\">Sequential</span>)              │ (<span style=\"color: #00d7ff; text-decoration-color: #00d7ff\">None</span>, <span style=\"color: #00af00; text-decoration-color: #00af00\">224</span>, <span style=\"color: #00af00; text-decoration-color: #00af00\">224</span>, <span style=\"color: #00af00; text-decoration-color: #00af00\">3</span>)         │               <span style=\"color: #00af00; text-decoration-color: #00af00\">0</span> │\n",
              "├──────────────────────────────────────┼─────────────────────────────┼─────────────────┤\n",
              "│ efficientnetb0 (<span style=\"color: #0087ff; text-decoration-color: #0087ff\">Functional</span>)          │ (<span style=\"color: #00d7ff; text-decoration-color: #00d7ff\">None</span>, <span style=\"color: #00af00; text-decoration-color: #00af00\">1280</span>)                │       <span style=\"color: #00af00; text-decoration-color: #00af00\">4,049,571</span> │\n",
              "├──────────────────────────────────────┼─────────────────────────────┼─────────────────┤\n",
              "│ dense (<span style=\"color: #0087ff; text-decoration-color: #0087ff\">Dense</span>)                        │ (<span style=\"color: #00d7ff; text-decoration-color: #00d7ff\">None</span>, <span style=\"color: #00af00; text-decoration-color: #00af00\">7</span>)                   │           <span style=\"color: #00af00; text-decoration-color: #00af00\">8,967</span> │\n",
              "└──────────────────────────────────────┴─────────────────────────────┴─────────────────┘\n",
              "</pre>\n"
            ]
          },
          "metadata": {}
        },
        {
          "output_type": "display_data",
          "data": {
            "text/plain": [
              "\u001b[1m Total params: \u001b[0m\u001b[38;5;34m4,058,538\u001b[0m (15.48 MB)\n"
            ],
            "text/html": [
              "<pre style=\"white-space:pre;overflow-x:auto;line-height:normal;font-family:Menlo,'DejaVu Sans Mono',consolas,'Courier New',monospace\"><span style=\"font-weight: bold\"> Total params: </span><span style=\"color: #00af00; text-decoration-color: #00af00\">4,058,538</span> (15.48 MB)\n",
              "</pre>\n"
            ]
          },
          "metadata": {}
        },
        {
          "output_type": "display_data",
          "data": {
            "text/plain": [
              "\u001b[1m Trainable params: \u001b[0m\u001b[38;5;34m8,967\u001b[0m (35.03 KB)\n"
            ],
            "text/html": [
              "<pre style=\"white-space:pre;overflow-x:auto;line-height:normal;font-family:Menlo,'DejaVu Sans Mono',consolas,'Courier New',monospace\"><span style=\"font-weight: bold\"> Trainable params: </span><span style=\"color: #00af00; text-decoration-color: #00af00\">8,967</span> (35.03 KB)\n",
              "</pre>\n"
            ]
          },
          "metadata": {}
        },
        {
          "output_type": "display_data",
          "data": {
            "text/plain": [
              "\u001b[1m Non-trainable params: \u001b[0m\u001b[38;5;34m4,049,571\u001b[0m (15.45 MB)\n"
            ],
            "text/html": [
              "<pre style=\"white-space:pre;overflow-x:auto;line-height:normal;font-family:Menlo,'DejaVu Sans Mono',consolas,'Courier New',monospace\"><span style=\"font-weight: bold\"> Non-trainable params: </span><span style=\"color: #00af00; text-decoration-color: #00af00\">4,049,571</span> (15.45 MB)\n",
              "</pre>\n"
            ]
          },
          "metadata": {}
        }
      ]
    },
    {
      "cell_type": "code",
      "source": [
        "model_1.compile(loss = tf.keras.losses.SparseCategoricalCrossentropy(),\n",
        "                optimizer = tf.keras.optimizers.Adam(),\n",
        "                metrics = ['accuracy'])"
      ],
      "metadata": {
        "id": "6bXu9P7M2bfA"
      },
      "execution_count": null,
      "outputs": []
    },
    {
      "cell_type": "code",
      "source": [
        "# Configure data to optimize model performance\n",
        "AUTOTUNE = tf.data.AUTOTUNE\n",
        "\n",
        "train_data = train_data.cache().prefetch(buffer_size=AUTOTUNE)\n",
        "valid_data = valid_data.cache().prefetch(buffer_size=AUTOTUNE)\n",
        "\n",
        "# Train model\n",
        "history_1 = model_1.fit(train_data, epochs = 10, validation_data = valid_data)"
      ],
      "metadata": {
        "colab": {
          "base_uri": "https://localhost:8080/"
        },
        "id": "ddKtQMj92cue",
        "outputId": "707c60cd-33de-408f-ee15-91d4537b2822"
      },
      "execution_count": null,
      "outputs": [
        {
          "output_type": "stream",
          "name": "stdout",
          "text": [
            "Epoch 1/10\n",
            "\u001b[1m 1/31\u001b[0m \u001b[37m━━━━━━━━━━━━━━━━━━━━\u001b[0m \u001b[1m13:44\u001b[0m 27s/step - accuracy: 0.1250 - loss: 2.1880"
          ]
        }
      ]
    },
    {
      "cell_type": "code",
      "source": [
        "def plot_history(tf_history):\n",
        "  ''' Plot loss and accuracy history for a model using Tensorflow history '''\n",
        "  # Loss\n",
        "  plt.figure()\n",
        "  plt.plot(tf_history.epoch, tf_history.history['loss'], label='train')\n",
        "  plt.plot(tf_history.epoch, tf_history.history['val_loss'], label = 'validation')\n",
        "  plt.xlabel('epochs')\n",
        "  plt.ylabel('loss')\n",
        "  plt.legend()\n",
        "  # Accuracy\n",
        "  plt.figure()\n",
        "  plt.plot(tf_history.epoch, tf_history.history['accuracy'], label='train')\n",
        "  plt.plot(tf_history.epoch, tf_history.history['val_accuracy'], label = 'validation')\n",
        "  plt.xlabel('epochs')\n",
        "  plt.ylabel('loss')\n",
        "  plt.legend()"
      ],
      "metadata": {
        "id": "KXqOk0R96nSy"
      },
      "execution_count": null,
      "outputs": []
    },
    {
      "cell_type": "code",
      "source": [
        "plot_history(history_1)"
      ],
      "metadata": {
        "id": "uqm2QFPt6t-N"
      },
      "execution_count": null,
      "outputs": []
    },
    {
      "cell_type": "markdown",
      "source": [
        "**The feature extraction name of the above transfer learning comes from the fact that the output of the model is a feature vector. The feature vector contains the learned patterns of the model based on a specific dataset**"
      ],
      "metadata": {
        "id": "efYSOgI0_0H8"
      }
    },
    {
      "cell_type": "markdown",
      "source": [
        "Let's try a more severe data augmentation to see if we can make the model more generalizable"
      ],
      "metadata": {
        "id": "_2a0O5i_Dxnf"
      }
    },
    {
      "cell_type": "code",
      "source": [
        "def augmentator(data):\n",
        "  aug_layer = tf.keras.Sequential([\n",
        "      tf.keras.layers.RandomContrast((0,1)),\n",
        "      tf.keras.layers.RandomRotation(0.4),\n",
        "      tf.keras.layers.RandomZoom(0.2),\n",
        "      tf.keras.layers.RandomShear(x_factor=0.2, y_factor=0.2)\n",
        "  ])\n",
        "\n",
        "  return aug_layer(data)\n",
        "\n",
        "def create_base_model_2(num_of_classes, img_height, img_width, color_mode):\n",
        "  ''' Create a feature extraction model based on EfficientNetB0 '''\n",
        "\n",
        "  inputs = tf.keras.Input(shape = (img_height, img_width, color_mode))\n",
        "\n",
        "  # Data augmentation layer\n",
        "  x = augmentator(inputs)\n",
        "\n",
        "  # Load a convolutional base with pre-trained weights\n",
        "  base_model = tf.keras.applications.efficientnet.EfficientNetB0(include_top = False,\n",
        "                                                                weights = 'imagenet',\n",
        "                                                                input_shape = (img_height, img_width, color_mode),\n",
        "                                                                pooling = 'avg')\n",
        "\n",
        "  # Freeze the base model\n",
        "  base_model.trainable = False\n",
        "  # pass data to base model\n",
        "  x = base_model(x, training=False)\n",
        "\n",
        "  # Create output layer\n",
        "  if num_of_classes == 2:\n",
        "    prediction_layer = tf.keras.layers.Dense(num_of_classes-1, activation='sigmoid')\n",
        "  else:\n",
        "    prediction_layer = tf.keras.layers.Dense(num_of_classes, activation='softmax')\n",
        "  # Pass data through output layer\n",
        "  outputs = prediction_layer(x)\n",
        "\n",
        "  # Create model\n",
        "  model = tf.keras.Model(inputs, outputs)\n",
        "  return model"
      ],
      "metadata": {
        "id": "rGDaaSrjC-xi"
      },
      "execution_count": 6,
      "outputs": []
    },
    {
      "cell_type": "markdown",
      "source": [
        "Let's create some checkpoints in case we have to run the code for longer as we apply harsher augmentation"
      ],
      "metadata": {
        "id": "XINDRp8UdTjv"
      }
    },
    {
      "cell_type": "code",
      "source": [
        "checkpoint_callback = tf.keras.callbacks.ModelCheckpoint(\"/content/drive/MyDrive/Colab Notebooks/fine_tune_checkpoint.weights.h5\", monitor='val_loss', save_weights_only=True ,save_best_only=True)"
      ],
      "metadata": {
        "id": "0LtJgQi3degq"
      },
      "execution_count": null,
      "outputs": []
    },
    {
      "cell_type": "code",
      "source": [
        "model_2 = create_base_model_2(len(class_names), IMG_HEIGHT, IMG_WIDTH, CHANNELS)"
      ],
      "metadata": {
        "id": "8SvZyj65Dq7_"
      },
      "execution_count": null,
      "outputs": []
    },
    {
      "cell_type": "code",
      "source": [
        "model_2.compile(loss = tf.keras.losses.SparseCategoricalCrossentropy(),\n",
        "                optimizer = tf.keras.optimizers.Adam(),\n",
        "                metrics = ['accuracy'])"
      ],
      "metadata": {
        "id": "JdFIrPN3EKMh"
      },
      "execution_count": null,
      "outputs": []
    },
    {
      "cell_type": "code",
      "source": [
        "# Configure data to optimize model performance\n",
        "AUTOTUNE = tf.data.AUTOTUNE\n",
        "\n",
        "train_data = train_data.cache().prefetch(buffer_size=AUTOTUNE)\n",
        "valid_data = valid_data.cache().prefetch(buffer_size=AUTOTUNE)\n",
        "\n",
        "# Train model\n",
        "history_2 = model_2.fit(train_data, epochs = 10, validation_data = valid_data, validation_steps = int(len(valid_data)/4), callbacks=[checkpoint_callback])"
      ],
      "metadata": {
        "colab": {
          "base_uri": "https://localhost:8080/"
        },
        "id": "PIocs3BxEPOu",
        "outputId": "c887fa12-cd22-4671-a2c2-9faba5960d30"
      },
      "execution_count": null,
      "outputs": [
        {
          "output_type": "stream",
          "name": "stdout",
          "text": [
            "Epoch 1/10\n",
            "\u001b[1m31/31\u001b[0m \u001b[32m━━━━━━━━━━━━━━━━━━━━\u001b[0m\u001b[37m\u001b[0m \u001b[1m26s\u001b[0m 482ms/step - accuracy: 0.2636 - loss: 1.8341 - val_accuracy: 0.5656 - val_loss: 1.3342\n",
            "Epoch 2/10\n",
            "\u001b[1m31/31\u001b[0m \u001b[32m━━━━━━━━━━━━━━━━━━━━\u001b[0m\u001b[37m\u001b[0m \u001b[1m9s\u001b[0m 300ms/step - accuracy: 0.6498 - loss: 1.1930 - val_accuracy: 0.6823 - val_loss: 1.0503\n",
            "Epoch 3/10\n",
            "\u001b[1m31/31\u001b[0m \u001b[32m━━━━━━━━━━━━━━━━━━━━\u001b[0m\u001b[37m\u001b[0m \u001b[1m8s\u001b[0m 224ms/step - accuracy: 0.7018 - loss: 0.9526 - val_accuracy: 0.7167 - val_loss: 0.9229\n",
            "Epoch 4/10\n",
            "\u001b[1m31/31\u001b[0m \u001b[32m━━━━━━━━━━━━━━━━━━━━\u001b[0m\u001b[37m\u001b[0m \u001b[1m11s\u001b[0m 367ms/step - accuracy: 0.7400 - loss: 0.8496 - val_accuracy: 0.7250 - val_loss: 0.8745\n",
            "Epoch 5/10\n",
            "\u001b[1m31/31\u001b[0m \u001b[32m━━━━━━━━━━━━━━━━━━━━\u001b[0m\u001b[37m\u001b[0m \u001b[1m8s\u001b[0m 260ms/step - accuracy: 0.7438 - loss: 0.8034 - val_accuracy: 0.7417 - val_loss: 0.8214\n",
            "Epoch 6/10\n",
            "\u001b[1m31/31\u001b[0m \u001b[32m━━━━━━━━━━━━━━━━━━━━\u001b[0m\u001b[37m\u001b[0m \u001b[1m11s\u001b[0m 295ms/step - accuracy: 0.7745 - loss: 0.7335 - val_accuracy: 0.7531 - val_loss: 0.7841\n",
            "Epoch 7/10\n",
            "\u001b[1m31/31\u001b[0m \u001b[32m━━━━━━━━━━━━━━━━━━━━\u001b[0m\u001b[37m\u001b[0m \u001b[1m8s\u001b[0m 223ms/step - accuracy: 0.7816 - loss: 0.7018 - val_accuracy: 0.7615 - val_loss: 0.7671\n",
            "Epoch 8/10\n",
            "\u001b[1m31/31\u001b[0m \u001b[32m━━━━━━━━━━━━━━━━━━━━\u001b[0m\u001b[37m\u001b[0m \u001b[1m7s\u001b[0m 241ms/step - accuracy: 0.7809 - loss: 0.6712 - val_accuracy: 0.7521 - val_loss: 0.7644\n",
            "Epoch 9/10\n",
            "\u001b[1m31/31\u001b[0m \u001b[32m━━━━━━━━━━━━━━━━━━━━\u001b[0m\u001b[37m\u001b[0m \u001b[1m13s\u001b[0m 418ms/step - accuracy: 0.8043 - loss: 0.6186 - val_accuracy: 0.7552 - val_loss: 0.7641\n",
            "Epoch 10/10\n",
            "\u001b[1m31/31\u001b[0m \u001b[32m━━━━━━━━━━━━━━━━━━━━\u001b[0m\u001b[37m\u001b[0m \u001b[1m15s\u001b[0m 243ms/step - accuracy: 0.8063 - loss: 0.6153 - val_accuracy: 0.7542 - val_loss: 0.7552\n"
          ]
        }
      ]
    },
    {
      "cell_type": "code",
      "source": [
        "#Evaluate model_2\n",
        "model_2.evaluate(valid_data)"
      ],
      "metadata": {
        "colab": {
          "base_uri": "https://localhost:8080/"
        },
        "id": "Tja1tYHB-bNO",
        "outputId": "19696745-bca7-4682-f004-f1d757acde3d"
      },
      "execution_count": null,
      "outputs": [
        {
          "output_type": "stream",
          "name": "stdout",
          "text": [
            "\u001b[1m121/121\u001b[0m \u001b[32m━━━━━━━━━━━━━━━━━━━━\u001b[0m\u001b[37m\u001b[0m \u001b[1m302s\u001b[0m 3s/step - accuracy: 0.7672 - loss: 0.7313\n"
          ]
        },
        {
          "output_type": "execute_result",
          "data": {
            "text/plain": [
              "[0.7038349509239197, 0.7697487473487854]"
            ]
          },
          "metadata": {},
          "execution_count": 36
        }
      ]
    },
    {
      "cell_type": "code",
      "source": [
        "plot_history(history_2)"
      ],
      "metadata": {
        "colab": {
          "base_uri": "https://localhost:8080/",
          "height": 881
        },
        "id": "vJWhL9gbKsnH",
        "outputId": "4077c797-d063-4f8e-8c3c-722db7ad5f59"
      },
      "execution_count": null,
      "outputs": [
        {
          "output_type": "display_data",
          "data": {
            "text/plain": [
              "<Figure size 640x480 with 1 Axes>"
            ],
            "image/png": "[encoded data removed]"
          },
          "metadata": {}
        },
        {
          "output_type": "display_data",
          "data": {
            "text/plain": [
              "<Figure size 640x480 with 1 Axes>"
            ],
            "image/png": "[encoded data removed]"
          },
          "metadata": {}
        }
      ]
    },
    {
      "cell_type": "markdown",
      "source": [
        "Appears that `tf.keras.models.load_model` has issues with using a separate function for the autmentation layer. For now I save only weights and then test if I move the layer inside the model function to see if it works"
      ],
      "metadata": {
        "id": "c9s0E9LJkNPw"
      }
    },
    {
      "cell_type": "code",
      "source": [
        "saved_model = create_base_model_2(len(class_names), IMG_HEIGHT, IMG_WIDTH, CHANNELS)\n",
        "\n",
        "saved_model.load_weights(\"/content/drive/MyDrive/Colab Notebooks/fine_tune_checkpoint.weights.h5\")"
      ],
      "metadata": {
        "id": "STAqD3dJmDEv",
        "colab": {
          "base_uri": "https://localhost:8080/"
        },
        "outputId": "f10951a4-d4e8-49ac-c026-d15c75eca8fa"
      },
      "execution_count": 7,
      "outputs": [
        {
          "output_type": "stream",
          "name": "stdout",
          "text": [
            "Downloading data from https://storage.googleapis.com/keras-applications/efficientnetb0_notop.h5\n",
            "\u001b[1m16705208/16705208\u001b[0m \u001b[32m━━━━━━━━━━━━━━━━━━━━\u001b[0m\u001b[37m\u001b[0m \u001b[1m0s\u001b[0m 0us/step\n"
          ]
        }
      ]
    },
    {
      "cell_type": "code",
      "source": [
        "saved_model.compile(loss = tf.keras.losses.SparseCategoricalCrossentropy(),\n",
        "                optimizer = tf.keras.optimizers.Adam(),\n",
        "                metrics = ['accuracy'])"
      ],
      "metadata": {
        "id": "CQ3q0O1OnPR5"
      },
      "execution_count": 8,
      "outputs": []
    },
    {
      "cell_type": "code",
      "source": [
        "saved_model.evaluate(test_data)"
      ],
      "metadata": {
        "colab": {
          "base_uri": "https://localhost:8080/"
        },
        "id": "qvxR0uaUmm3e",
        "outputId": "2725dd06-0cc8-414c-979f-e3a20c55d630"
      },
      "execution_count": 9,
      "outputs": [
        {
          "output_type": "stream",
          "name": "stdout",
          "text": [
            "\u001b[1m51/51\u001b[0m \u001b[32m━━━━━━━━━━━━━━━━━━━━\u001b[0m\u001b[37m\u001b[0m \u001b[1m305s\u001b[0m 6s/step - accuracy: 0.7666 - loss: 0.7008\n"
          ]
        },
        {
          "output_type": "execute_result",
          "data": {
            "text/plain": [
              "[0.7110669016838074, 0.7513949275016785]"
            ]
          },
          "metadata": {},
          "execution_count": 9
        }
      ]
    },
    {
      "cell_type": "markdown",
      "source": [
        "## Fine-tuning"
      ],
      "metadata": {
        "id": "e6wMQq3O92lh"
      }
    },
    {
      "cell_type": "code",
      "source": [
        "model_2.layers"
      ],
      "metadata": {
        "colab": {
          "base_uri": "https://localhost:8080/"
        },
        "id": "McmBqGu1fEZ7",
        "outputId": "9ae6e167-c223-4bbd-cc01-d7a5262b518d"
      },
      "execution_count": null,
      "outputs": [
        {
          "output_type": "execute_result",
          "data": {
            "text/plain": [
              "[<InputLayer name=input_layer, built=True>,\n",
              " <Sequential name=sequential, built=True>,\n",
              " <Functional name=efficientnetb0, built=True>,\n",
              " <Dense name=dense, built=True>]"
            ]
          },
          "metadata": {},
          "execution_count": 16
        }
      ]
    },
    {
      "cell_type": "code",
      "source": [
        "for layer in model_2.layers:\n",
        "  print(f\"layer {layer} is trainable: {layer.trainable}\")"
      ],
      "metadata": {
        "colab": {
          "base_uri": "https://localhost:8080/"
        },
        "id": "xXZmaqXTfKyr",
        "outputId": "4f5a6316-f0d4-48f0-ef16-430fe3b4def5"
      },
      "execution_count": null,
      "outputs": [
        {
          "output_type": "stream",
          "name": "stdout",
          "text": [
            "layer <InputLayer name=input_layer, built=True> is trainable: True\n",
            "layer <Sequential name=sequential, built=True> is trainable: True\n",
            "layer <Functional name=efficientnetb0, built=True> is trainable: False\n",
            "layer <Dense name=dense, built=True> is trainable: True\n"
          ]
        }
      ]
    },
    {
      "cell_type": "code",
      "source": [
        "for i, layer in enumerate(model_2.layers[2].layers):\n",
        "  print(i, layer, layer.trainable)"
      ],
      "metadata": {
        "colab": {
          "base_uri": "https://localhost:8080/"
        },
        "id": "zSxHiLLrfkHb",
        "outputId": "2ca5c14c-6b10-4321-dc9c-159a2a21373d"
      },
      "execution_count": null,
      "outputs": [
        {
          "output_type": "stream",
          "name": "stdout",
          "text": [
            "0 <InputLayer name=input_layer_2, built=True> False\n",
            "1 <Rescaling name=rescaling, built=True> False\n",
            "2 <Normalization name=normalization, built=True> False\n",
            "3 <Rescaling name=rescaling_1, built=True> False\n",
            "4 <ZeroPadding2D name=stem_conv_pad, built=True> False\n",
            "5 <Conv2D name=stem_conv, built=True> False\n",
            "6 <BatchNormalization name=stem_bn, built=True> False\n",
            "7 <Activation name=stem_activation, built=True> False\n",
            "8 <DepthwiseConv2D name=block1a_dwconv, built=True> False\n",
            "9 <BatchNormalization name=block1a_bn, built=True> False\n",
            "10 <Activation name=block1a_activation, built=True> False\n",
            "11 <GlobalAveragePooling2D name=block1a_se_squeeze, built=True> False\n",
            "12 <Reshape name=block1a_se_reshape, built=True> False\n",
            "13 <Conv2D name=block1a_se_reduce, built=True> False\n",
            "14 <Conv2D name=block1a_se_expand, built=True> False\n",
            "15 <Multiply name=block1a_se_excite, built=True> False\n",
            "16 <Conv2D name=block1a_project_conv, built=True> False\n",
            "17 <BatchNormalization name=block1a_project_bn, built=True> False\n",
            "18 <Conv2D name=block2a_expand_conv, built=True> False\n",
            "19 <BatchNormalization name=block2a_expand_bn, built=True> False\n",
            "20 <Activation name=block2a_expand_activation, built=True> False\n",
            "21 <ZeroPadding2D name=block2a_dwconv_pad, built=True> False\n",
            "22 <DepthwiseConv2D name=block2a_dwconv, built=True> False\n",
            "23 <BatchNormalization name=block2a_bn, built=True> False\n",
            "24 <Activation name=block2a_activation, built=True> False\n",
            "25 <GlobalAveragePooling2D name=block2a_se_squeeze, built=True> False\n",
            "26 <Reshape name=block2a_se_reshape, built=True> False\n",
            "27 <Conv2D name=block2a_se_reduce, built=True> False\n",
            "28 <Conv2D name=block2a_se_expand, built=True> False\n",
            "29 <Multiply name=block2a_se_excite, built=True> False\n",
            "30 <Conv2D name=block2a_project_conv, built=True> False\n",
            "31 <BatchNormalization name=block2a_project_bn, built=True> False\n",
            "32 <Conv2D name=block2b_expand_conv, built=True> False\n",
            "33 <BatchNormalization name=block2b_expand_bn, built=True> False\n",
            "34 <Activation name=block2b_expand_activation, built=True> False\n",
            "35 <DepthwiseConv2D name=block2b_dwconv, built=True> False\n",
            "36 <BatchNormalization name=block2b_bn, built=True> False\n",
            "37 <Activation name=block2b_activation, built=True> False\n",
            "38 <GlobalAveragePooling2D name=block2b_se_squeeze, built=True> False\n",
            "39 <Reshape name=block2b_se_reshape, built=True> False\n",
            "40 <Conv2D name=block2b_se_reduce, built=True> False\n",
            "41 <Conv2D name=block2b_se_expand, built=True> False\n",
            "42 <Multiply name=block2b_se_excite, built=True> False\n",
            "43 <Conv2D name=block2b_project_conv, built=True> False\n",
            "44 <BatchNormalization name=block2b_project_bn, built=True> False\n",
            "45 <Dropout name=block2b_drop, built=True> False\n",
            "46 <Add name=block2b_add, built=True> False\n",
            "47 <Conv2D name=block3a_expand_conv, built=True> False\n",
            "48 <BatchNormalization name=block3a_expand_bn, built=True> False\n",
            "49 <Activation name=block3a_expand_activation, built=True> False\n",
            "50 <ZeroPadding2D name=block3a_dwconv_pad, built=True> False\n",
            "51 <DepthwiseConv2D name=block3a_dwconv, built=True> False\n",
            "52 <BatchNormalization name=block3a_bn, built=True> False\n",
            "53 <Activation name=block3a_activation, built=True> False\n",
            "54 <GlobalAveragePooling2D name=block3a_se_squeeze, built=True> False\n",
            "55 <Reshape name=block3a_se_reshape, built=True> False\n",
            "56 <Conv2D name=block3a_se_reduce, built=True> False\n",
            "57 <Conv2D name=block3a_se_expand, built=True> False\n",
            "58 <Multiply name=block3a_se_excite, built=True> False\n",
            "59 <Conv2D name=block3a_project_conv, built=True> False\n",
            "60 <BatchNormalization name=block3a_project_bn, built=True> False\n",
            "61 <Conv2D name=block3b_expand_conv, built=True> False\n",
            "62 <BatchNormalization name=block3b_expand_bn, built=True> False\n",
            "63 <Activation name=block3b_expand_activation, built=True> False\n",
            "64 <DepthwiseConv2D name=block3b_dwconv, built=True> False\n",
            "65 <BatchNormalization name=block3b_bn, built=True> False\n",
            "66 <Activation name=block3b_activation, built=True> False\n",
            "67 <GlobalAveragePooling2D name=block3b_se_squeeze, built=True> False\n",
            "68 <Reshape name=block3b_se_reshape, built=True> False\n",
            "69 <Conv2D name=block3b_se_reduce, built=True> False\n",
            "70 <Conv2D name=block3b_se_expand, built=True> False\n",
            "71 <Multiply name=block3b_se_excite, built=True> False\n",
            "72 <Conv2D name=block3b_project_conv, built=True> False\n",
            "73 <BatchNormalization name=block3b_project_bn, built=True> False\n",
            "74 <Dropout name=block3b_drop, built=True> False\n",
            "75 <Add name=block3b_add, built=True> False\n",
            "76 <Conv2D name=block4a_expand_conv, built=True> False\n",
            "77 <BatchNormalization name=block4a_expand_bn, built=True> False\n",
            "78 <Activation name=block4a_expand_activation, built=True> False\n",
            "79 <ZeroPadding2D name=block4a_dwconv_pad, built=True> False\n",
            "80 <DepthwiseConv2D name=block4a_dwconv, built=True> False\n",
            "81 <BatchNormalization name=block4a_bn, built=True> False\n",
            "82 <Activation name=block4a_activation, built=True> False\n",
            "83 <GlobalAveragePooling2D name=block4a_se_squeeze, built=True> False\n",
            "84 <Reshape name=block4a_se_reshape, built=True> False\n",
            "85 <Conv2D name=block4a_se_reduce, built=True> False\n",
            "86 <Conv2D name=block4a_se_expand, built=True> False\n",
            "87 <Multiply name=block4a_se_excite, built=True> False\n",
            "88 <Conv2D name=block4a_project_conv, built=True> False\n",
            "89 <BatchNormalization name=block4a_project_bn, built=True> False\n",
            "90 <Conv2D name=block4b_expand_conv, built=True> False\n",
            "91 <BatchNormalization name=block4b_expand_bn, built=True> False\n",
            "92 <Activation name=block4b_expand_activation, built=True> False\n",
            "93 <DepthwiseConv2D name=block4b_dwconv, built=True> False\n",
            "94 <BatchNormalization name=block4b_bn, built=True> False\n",
            "95 <Activation name=block4b_activation, built=True> False\n",
            "96 <GlobalAveragePooling2D name=block4b_se_squeeze, built=True> False\n",
            "97 <Reshape name=block4b_se_reshape, built=True> False\n",
            "98 <Conv2D name=block4b_se_reduce, built=True> False\n",
            "99 <Conv2D name=block4b_se_expand, built=True> False\n",
            "100 <Multiply name=block4b_se_excite, built=True> False\n",
            "101 <Conv2D name=block4b_project_conv, built=True> False\n",
            "102 <BatchNormalization name=block4b_project_bn, built=True> False\n",
            "103 <Dropout name=block4b_drop, built=True> False\n",
            "104 <Add name=block4b_add, built=True> False\n",
            "105 <Conv2D name=block4c_expand_conv, built=True> False\n",
            "106 <BatchNormalization name=block4c_expand_bn, built=True> False\n",
            "107 <Activation name=block4c_expand_activation, built=True> False\n",
            "108 <DepthwiseConv2D name=block4c_dwconv, built=True> False\n",
            "109 <BatchNormalization name=block4c_bn, built=True> False\n",
            "110 <Activation name=block4c_activation, built=True> False\n",
            "111 <GlobalAveragePooling2D name=block4c_se_squeeze, built=True> False\n",
            "112 <Reshape name=block4c_se_reshape, built=True> False\n",
            "113 <Conv2D name=block4c_se_reduce, built=True> False\n",
            "114 <Conv2D name=block4c_se_expand, built=True> False\n",
            "115 <Multiply name=block4c_se_excite, built=True> False\n",
            "116 <Conv2D name=block4c_project_conv, built=True> False\n",
            "117 <BatchNormalization name=block4c_project_bn, built=True> False\n",
            "118 <Dropout name=block4c_drop, built=True> False\n",
            "119 <Add name=block4c_add, built=True> False\n",
            "120 <Conv2D name=block5a_expand_conv, built=True> False\n",
            "121 <BatchNormalization name=block5a_expand_bn, built=True> False\n",
            "122 <Activation name=block5a_expand_activation, built=True> False\n",
            "123 <DepthwiseConv2D name=block5a_dwconv, built=True> False\n",
            "124 <BatchNormalization name=block5a_bn, built=True> False\n",
            "125 <Activation name=block5a_activation, built=True> False\n",
            "126 <GlobalAveragePooling2D name=block5a_se_squeeze, built=True> False\n",
            "127 <Reshape name=block5a_se_reshape, built=True> False\n",
            "128 <Conv2D name=block5a_se_reduce, built=True> False\n",
            "129 <Conv2D name=block5a_se_expand, built=True> False\n",
            "130 <Multiply name=block5a_se_excite, built=True> False\n",
            "131 <Conv2D name=block5a_project_conv, built=True> False\n",
            "132 <BatchNormalization name=block5a_project_bn, built=True> False\n",
            "133 <Conv2D name=block5b_expand_conv, built=True> False\n",
            "134 <BatchNormalization name=block5b_expand_bn, built=True> False\n",
            "135 <Activation name=block5b_expand_activation, built=True> False\n",
            "136 <DepthwiseConv2D name=block5b_dwconv, built=True> False\n",
            "137 <BatchNormalization name=block5b_bn, built=True> False\n",
            "138 <Activation name=block5b_activation, built=True> False\n",
            "139 <GlobalAveragePooling2D name=block5b_se_squeeze, built=True> False\n",
            "140 <Reshape name=block5b_se_reshape, built=True> False\n",
            "141 <Conv2D name=block5b_se_reduce, built=True> False\n",
            "142 <Conv2D name=block5b_se_expand, built=True> False\n",
            "143 <Multiply name=block5b_se_excite, built=True> False\n",
            "144 <Conv2D name=block5b_project_conv, built=True> False\n",
            "145 <BatchNormalization name=block5b_project_bn, built=True> False\n",
            "146 <Dropout name=block5b_drop, built=True> False\n",
            "147 <Add name=block5b_add, built=True> False\n",
            "148 <Conv2D name=block5c_expand_conv, built=True> False\n",
            "149 <BatchNormalization name=block5c_expand_bn, built=True> False\n",
            "150 <Activation name=block5c_expand_activation, built=True> False\n",
            "151 <DepthwiseConv2D name=block5c_dwconv, built=True> False\n",
            "152 <BatchNormalization name=block5c_bn, built=True> False\n",
            "153 <Activation name=block5c_activation, built=True> False\n",
            "154 <GlobalAveragePooling2D name=block5c_se_squeeze, built=True> False\n",
            "155 <Reshape name=block5c_se_reshape, built=True> False\n",
            "156 <Conv2D name=block5c_se_reduce, built=True> False\n",
            "157 <Conv2D name=block5c_se_expand, built=True> False\n",
            "158 <Multiply name=block5c_se_excite, built=True> False\n",
            "159 <Conv2D name=block5c_project_conv, built=True> False\n",
            "160 <BatchNormalization name=block5c_project_bn, built=True> False\n",
            "161 <Dropout name=block5c_drop, built=True> False\n",
            "162 <Add name=block5c_add, built=True> False\n",
            "163 <Conv2D name=block6a_expand_conv, built=True> False\n",
            "164 <BatchNormalization name=block6a_expand_bn, built=True> False\n",
            "165 <Activation name=block6a_expand_activation, built=True> False\n",
            "166 <ZeroPadding2D name=block6a_dwconv_pad, built=True> False\n",
            "167 <DepthwiseConv2D name=block6a_dwconv, built=True> False\n",
            "168 <BatchNormalization name=block6a_bn, built=True> False\n",
            "169 <Activation name=block6a_activation, built=True> False\n",
            "170 <GlobalAveragePooling2D name=block6a_se_squeeze, built=True> False\n",
            "171 <Reshape name=block6a_se_reshape, built=True> False\n",
            "172 <Conv2D name=block6a_se_reduce, built=True> False\n",
            "173 <Conv2D name=block6a_se_expand, built=True> False\n",
            "174 <Multiply name=block6a_se_excite, built=True> False\n",
            "175 <Conv2D name=block6a_project_conv, built=True> False\n",
            "176 <BatchNormalization name=block6a_project_bn, built=True> False\n",
            "177 <Conv2D name=block6b_expand_conv, built=True> False\n",
            "178 <BatchNormalization name=block6b_expand_bn, built=True> False\n",
            "179 <Activation name=block6b_expand_activation, built=True> False\n",
            "180 <DepthwiseConv2D name=block6b_dwconv, built=True> False\n",
            "181 <BatchNormalization name=block6b_bn, built=True> False\n",
            "182 <Activation name=block6b_activation, built=True> False\n",
            "183 <GlobalAveragePooling2D name=block6b_se_squeeze, built=True> False\n",
            "184 <Reshape name=block6b_se_reshape, built=True> False\n",
            "185 <Conv2D name=block6b_se_reduce, built=True> False\n",
            "186 <Conv2D name=block6b_se_expand, built=True> False\n",
            "187 <Multiply name=block6b_se_excite, built=True> False\n",
            "188 <Conv2D name=block6b_project_conv, built=True> False\n",
            "189 <BatchNormalization name=block6b_project_bn, built=True> False\n",
            "190 <Dropout name=block6b_drop, built=True> False\n",
            "191 <Add name=block6b_add, built=True> False\n",
            "192 <Conv2D name=block6c_expand_conv, built=True> False\n",
            "193 <BatchNormalization name=block6c_expand_bn, built=True> False\n",
            "194 <Activation name=block6c_expand_activation, built=True> False\n",
            "195 <DepthwiseConv2D name=block6c_dwconv, built=True> False\n",
            "196 <BatchNormalization name=block6c_bn, built=True> False\n",
            "197 <Activation name=block6c_activation, built=True> False\n",
            "198 <GlobalAveragePooling2D name=block6c_se_squeeze, built=True> False\n",
            "199 <Reshape name=block6c_se_reshape, built=True> False\n",
            "200 <Conv2D name=block6c_se_reduce, built=True> False\n",
            "201 <Conv2D name=block6c_se_expand, built=True> False\n",
            "202 <Multiply name=block6c_se_excite, built=True> False\n",
            "203 <Conv2D name=block6c_project_conv, built=True> False\n",
            "204 <BatchNormalization name=block6c_project_bn, built=True> False\n",
            "205 <Dropout name=block6c_drop, built=True> False\n",
            "206 <Add name=block6c_add, built=True> False\n",
            "207 <Conv2D name=block6d_expand_conv, built=True> False\n",
            "208 <BatchNormalization name=block6d_expand_bn, built=True> False\n",
            "209 <Activation name=block6d_expand_activation, built=True> False\n",
            "210 <DepthwiseConv2D name=block6d_dwconv, built=True> False\n",
            "211 <BatchNormalization name=block6d_bn, built=True> False\n",
            "212 <Activation name=block6d_activation, built=True> False\n",
            "213 <GlobalAveragePooling2D name=block6d_se_squeeze, built=True> False\n",
            "214 <Reshape name=block6d_se_reshape, built=True> False\n",
            "215 <Conv2D name=block6d_se_reduce, built=True> False\n",
            "216 <Conv2D name=block6d_se_expand, built=True> False\n",
            "217 <Multiply name=block6d_se_excite, built=True> False\n",
            "218 <Conv2D name=block6d_project_conv, built=True> False\n",
            "219 <BatchNormalization name=block6d_project_bn, built=True> False\n",
            "220 <Dropout name=block6d_drop, built=True> False\n",
            "221 <Add name=block6d_add, built=True> False\n",
            "222 <Conv2D name=block7a_expand_conv, built=True> False\n",
            "223 <BatchNormalization name=block7a_expand_bn, built=True> False\n",
            "224 <Activation name=block7a_expand_activation, built=True> False\n",
            "225 <DepthwiseConv2D name=block7a_dwconv, built=True> False\n",
            "226 <BatchNormalization name=block7a_bn, built=True> False\n",
            "227 <Activation name=block7a_activation, built=True> False\n",
            "228 <GlobalAveragePooling2D name=block7a_se_squeeze, built=True> False\n",
            "229 <Reshape name=block7a_se_reshape, built=True> False\n",
            "230 <Conv2D name=block7a_se_reduce, built=True> False\n",
            "231 <Conv2D name=block7a_se_expand, built=True> False\n",
            "232 <Multiply name=block7a_se_excite, built=True> False\n",
            "233 <Conv2D name=block7a_project_conv, built=True> False\n",
            "234 <BatchNormalization name=block7a_project_bn, built=True> False\n",
            "235 <Conv2D name=top_conv, built=True> False\n",
            "236 <BatchNormalization name=top_bn, built=True> False\n",
            "237 <Activation name=top_activation, built=True> False\n",
            "238 <GlobalAveragePooling2D name=avg_pool, built=True> False\n"
          ]
        }
      ]
    },
    {
      "cell_type": "markdown",
      "source": [
        "**To begin fine-tuning, unfreeze the last 10 layers of the base model**"
      ],
      "metadata": {
        "id": "TiKujulxgLy_"
      }
    },
    {
      "cell_type": "code",
      "source": [
        "def augmentator(data):\n",
        "  aug_layer = tf.keras.Sequential([\n",
        "      tf.keras.layers.RandomContrast((0,1)),\n",
        "      tf.keras.layers.RandomRotation(0.4),\n",
        "      tf.keras.layers.RandomZoom(0.2),\n",
        "      tf.keras.layers.RandomShear(x_factor=0.2, y_factor=0.2)\n",
        "  ])\n",
        "\n",
        "  return aug_layer(data)\n",
        "\n",
        "def create_base_model_2(num_of_classes, img_height, img_width, color_mode):\n",
        "  ''' Create a feature extraction model based on EfficientNetB0 '''\n",
        "\n",
        "  inputs = tf.keras.Input(shape = (img_height, img_width, color_mode))\n",
        "\n",
        "  # Data augmentation layer\n",
        "  x = augmentator(inputs)\n",
        "\n",
        "  # Load a convolutional base with pre-trained weights\n",
        "  base_model = tf.keras.applications.efficientnet.EfficientNetB0(include_top = False,\n",
        "                                                                weights = 'imagenet',\n",
        "                                                                input_shape = (img_height, img_width, color_mode),\n",
        "                                                                pooling = 'avg')\n",
        "\n",
        "  # Freeze the base model\n",
        "  base_model.trainable = False\n",
        "  # pass data to base model\n",
        "  x = base_model(x, training=False)\n",
        "\n",
        "  # Create output layer\n",
        "  if num_of_classes == 2:\n",
        "    prediction_layer = tf.keras.layers.Dense(num_of_classes-1, activation='sigmoid')\n",
        "  else:\n",
        "    prediction_layer = tf.keras.layers.Dense(num_of_classes, activation='softmax')\n",
        "  # Pass data through output layer\n",
        "  outputs = prediction_layer(x)\n",
        "\n",
        "  # Create model\n",
        "  model = tf.keras.Model(inputs, outputs)\n",
        "  return model"
      ],
      "metadata": {
        "id": "0Y8WtBNd2Izf"
      },
      "execution_count": 20,
      "outputs": []
    },
    {
      "cell_type": "code",
      "source": [
        "def create_fine_tune_model(model, base_model_loc):\n",
        "  ''' Create a feature extraction model based on EfficientNetB0 '''\n",
        "\n",
        "  for layer in model.layers[base_model_loc].layers[-10:]:\n",
        "    layer.trainable = True\n",
        "\n",
        "  return model"
      ],
      "metadata": {
        "id": "E4O0ebg6ghSJ"
      },
      "execution_count": 16,
      "outputs": []
    },
    {
      "cell_type": "markdown",
      "source": [
        "**We first do feature extraction to find the last layer weights**"
      ],
      "metadata": {
        "id": "i-hR-u-w9iOg"
      }
    },
    {
      "cell_type": "code",
      "source": [
        "model_3 = create_base_model_2(7, IMG_HEIGHT, IMG_WIDTH, CHANNELS)"
      ],
      "metadata": {
        "id": "GJx8Ic3kiYMd"
      },
      "execution_count": 21,
      "outputs": []
    },
    {
      "cell_type": "code",
      "source": [
        "for i, layer in enumerate(model_3.layers[2].layers):\n",
        "  print(i, layer, layer.trainable)"
      ],
      "metadata": {
        "colab": {
          "base_uri": "https://localhost:8080/"
        },
        "id": "lZpKAS72jypr",
        "outputId": "9b9c7bb9-625a-4ae9-fa51-667b9d5618ef"
      },
      "execution_count": null,
      "outputs": [
        {
          "output_type": "stream",
          "name": "stdout",
          "text": [
            "0 <InputLayer name=input_layer_8, built=True> False\n",
            "1 <Rescaling name=rescaling_4, built=True> False\n",
            "2 <Normalization name=normalization_2, built=True> False\n",
            "3 <Rescaling name=rescaling_5, built=True> False\n",
            "4 <ZeroPadding2D name=stem_conv_pad, built=True> False\n",
            "5 <Conv2D name=stem_conv, built=True> False\n",
            "6 <BatchNormalization name=stem_bn, built=True> False\n",
            "7 <Activation name=stem_activation, built=True> False\n",
            "8 <DepthwiseConv2D name=block1a_dwconv, built=True> False\n",
            "9 <BatchNormalization name=block1a_bn, built=True> False\n",
            "10 <Activation name=block1a_activation, built=True> False\n",
            "11 <GlobalAveragePooling2D name=block1a_se_squeeze, built=True> False\n",
            "12 <Reshape name=block1a_se_reshape, built=True> False\n",
            "13 <Conv2D name=block1a_se_reduce, built=True> False\n",
            "14 <Conv2D name=block1a_se_expand, built=True> False\n",
            "15 <Multiply name=block1a_se_excite, built=True> False\n",
            "16 <Conv2D name=block1a_project_conv, built=True> False\n",
            "17 <BatchNormalization name=block1a_project_bn, built=True> False\n",
            "18 <Conv2D name=block2a_expand_conv, built=True> False\n",
            "19 <BatchNormalization name=block2a_expand_bn, built=True> False\n",
            "20 <Activation name=block2a_expand_activation, built=True> False\n",
            "21 <ZeroPadding2D name=block2a_dwconv_pad, built=True> False\n",
            "22 <DepthwiseConv2D name=block2a_dwconv, built=True> False\n",
            "23 <BatchNormalization name=block2a_bn, built=True> False\n",
            "24 <Activation name=block2a_activation, built=True> False\n",
            "25 <GlobalAveragePooling2D name=block2a_se_squeeze, built=True> False\n",
            "26 <Reshape name=block2a_se_reshape, built=True> False\n",
            "27 <Conv2D name=block2a_se_reduce, built=True> False\n",
            "28 <Conv2D name=block2a_se_expand, built=True> False\n",
            "29 <Multiply name=block2a_se_excite, built=True> False\n",
            "30 <Conv2D name=block2a_project_conv, built=True> False\n",
            "31 <BatchNormalization name=block2a_project_bn, built=True> False\n",
            "32 <Conv2D name=block2b_expand_conv, built=True> False\n",
            "33 <BatchNormalization name=block2b_expand_bn, built=True> False\n",
            "34 <Activation name=block2b_expand_activation, built=True> False\n",
            "35 <DepthwiseConv2D name=block2b_dwconv, built=True> False\n",
            "36 <BatchNormalization name=block2b_bn, built=True> False\n",
            "37 <Activation name=block2b_activation, built=True> False\n",
            "38 <GlobalAveragePooling2D name=block2b_se_squeeze, built=True> False\n",
            "39 <Reshape name=block2b_se_reshape, built=True> False\n",
            "40 <Conv2D name=block2b_se_reduce, built=True> False\n",
            "41 <Conv2D name=block2b_se_expand, built=True> False\n",
            "42 <Multiply name=block2b_se_excite, built=True> False\n",
            "43 <Conv2D name=block2b_project_conv, built=True> False\n",
            "44 <BatchNormalization name=block2b_project_bn, built=True> False\n",
            "45 <Dropout name=block2b_drop, built=True> False\n",
            "46 <Add name=block2b_add, built=True> False\n",
            "47 <Conv2D name=block3a_expand_conv, built=True> False\n",
            "48 <BatchNormalization name=block3a_expand_bn, built=True> False\n",
            "49 <Activation name=block3a_expand_activation, built=True> False\n",
            "50 <ZeroPadding2D name=block3a_dwconv_pad, built=True> False\n",
            "51 <DepthwiseConv2D name=block3a_dwconv, built=True> False\n",
            "52 <BatchNormalization name=block3a_bn, built=True> False\n",
            "53 <Activation name=block3a_activation, built=True> False\n",
            "54 <GlobalAveragePooling2D name=block3a_se_squeeze, built=True> False\n",
            "55 <Reshape name=block3a_se_reshape, built=True> False\n",
            "56 <Conv2D name=block3a_se_reduce, built=True> False\n",
            "57 <Conv2D name=block3a_se_expand, built=True> False\n",
            "58 <Multiply name=block3a_se_excite, built=True> False\n",
            "59 <Conv2D name=block3a_project_conv, built=True> False\n",
            "60 <BatchNormalization name=block3a_project_bn, built=True> False\n",
            "61 <Conv2D name=block3b_expand_conv, built=True> False\n",
            "62 <BatchNormalization name=block3b_expand_bn, built=True> False\n",
            "63 <Activation name=block3b_expand_activation, built=True> False\n",
            "64 <DepthwiseConv2D name=block3b_dwconv, built=True> False\n",
            "65 <BatchNormalization name=block3b_bn, built=True> False\n",
            "66 <Activation name=block3b_activation, built=True> False\n",
            "67 <GlobalAveragePooling2D name=block3b_se_squeeze, built=True> False\n",
            "68 <Reshape name=block3b_se_reshape, built=True> False\n",
            "69 <Conv2D name=block3b_se_reduce, built=True> False\n",
            "70 <Conv2D name=block3b_se_expand, built=True> False\n",
            "71 <Multiply name=block3b_se_excite, built=True> False\n",
            "72 <Conv2D name=block3b_project_conv, built=True> False\n",
            "73 <BatchNormalization name=block3b_project_bn, built=True> False\n",
            "74 <Dropout name=block3b_drop, built=True> False\n",
            "75 <Add name=block3b_add, built=True> False\n",
            "76 <Conv2D name=block4a_expand_conv, built=True> False\n",
            "77 <BatchNormalization name=block4a_expand_bn, built=True> False\n",
            "78 <Activation name=block4a_expand_activation, built=True> False\n",
            "79 <ZeroPadding2D name=block4a_dwconv_pad, built=True> False\n",
            "80 <DepthwiseConv2D name=block4a_dwconv, built=True> False\n",
            "81 <BatchNormalization name=block4a_bn, built=True> False\n",
            "82 <Activation name=block4a_activation, built=True> False\n",
            "83 <GlobalAveragePooling2D name=block4a_se_squeeze, built=True> False\n",
            "84 <Reshape name=block4a_se_reshape, built=True> False\n",
            "85 <Conv2D name=block4a_se_reduce, built=True> False\n",
            "86 <Conv2D name=block4a_se_expand, built=True> False\n",
            "87 <Multiply name=block4a_se_excite, built=True> False\n",
            "88 <Conv2D name=block4a_project_conv, built=True> False\n",
            "89 <BatchNormalization name=block4a_project_bn, built=True> False\n",
            "90 <Conv2D name=block4b_expand_conv, built=True> False\n",
            "91 <BatchNormalization name=block4b_expand_bn, built=True> False\n",
            "92 <Activation name=block4b_expand_activation, built=True> False\n",
            "93 <DepthwiseConv2D name=block4b_dwconv, built=True> False\n",
            "94 <BatchNormalization name=block4b_bn, built=True> False\n",
            "95 <Activation name=block4b_activation, built=True> False\n",
            "96 <GlobalAveragePooling2D name=block4b_se_squeeze, built=True> False\n",
            "97 <Reshape name=block4b_se_reshape, built=True> False\n",
            "98 <Conv2D name=block4b_se_reduce, built=True> False\n",
            "99 <Conv2D name=block4b_se_expand, built=True> False\n",
            "100 <Multiply name=block4b_se_excite, built=True> False\n",
            "101 <Conv2D name=block4b_project_conv, built=True> False\n",
            "102 <BatchNormalization name=block4b_project_bn, built=True> False\n",
            "103 <Dropout name=block4b_drop, built=True> False\n",
            "104 <Add name=block4b_add, built=True> False\n",
            "105 <Conv2D name=block4c_expand_conv, built=True> False\n",
            "106 <BatchNormalization name=block4c_expand_bn, built=True> False\n",
            "107 <Activation name=block4c_expand_activation, built=True> False\n",
            "108 <DepthwiseConv2D name=block4c_dwconv, built=True> False\n",
            "109 <BatchNormalization name=block4c_bn, built=True> False\n",
            "110 <Activation name=block4c_activation, built=True> False\n",
            "111 <GlobalAveragePooling2D name=block4c_se_squeeze, built=True> False\n",
            "112 <Reshape name=block4c_se_reshape, built=True> False\n",
            "113 <Conv2D name=block4c_se_reduce, built=True> False\n",
            "114 <Conv2D name=block4c_se_expand, built=True> False\n",
            "115 <Multiply name=block4c_se_excite, built=True> False\n",
            "116 <Conv2D name=block4c_project_conv, built=True> False\n",
            "117 <BatchNormalization name=block4c_project_bn, built=True> False\n",
            "118 <Dropout name=block4c_drop, built=True> False\n",
            "119 <Add name=block4c_add, built=True> False\n",
            "120 <Conv2D name=block5a_expand_conv, built=True> False\n",
            "121 <BatchNormalization name=block5a_expand_bn, built=True> False\n",
            "122 <Activation name=block5a_expand_activation, built=True> False\n",
            "123 <DepthwiseConv2D name=block5a_dwconv, built=True> False\n",
            "124 <BatchNormalization name=block5a_bn, built=True> False\n",
            "125 <Activation name=block5a_activation, built=True> False\n",
            "126 <GlobalAveragePooling2D name=block5a_se_squeeze, built=True> False\n",
            "127 <Reshape name=block5a_se_reshape, built=True> False\n",
            "128 <Conv2D name=block5a_se_reduce, built=True> False\n",
            "129 <Conv2D name=block5a_se_expand, built=True> False\n",
            "130 <Multiply name=block5a_se_excite, built=True> False\n",
            "131 <Conv2D name=block5a_project_conv, built=True> False\n",
            "132 <BatchNormalization name=block5a_project_bn, built=True> False\n",
            "133 <Conv2D name=block5b_expand_conv, built=True> False\n",
            "134 <BatchNormalization name=block5b_expand_bn, built=True> False\n",
            "135 <Activation name=block5b_expand_activation, built=True> False\n",
            "136 <DepthwiseConv2D name=block5b_dwconv, built=True> False\n",
            "137 <BatchNormalization name=block5b_bn, built=True> False\n",
            "138 <Activation name=block5b_activation, built=True> False\n",
            "139 <GlobalAveragePooling2D name=block5b_se_squeeze, built=True> False\n",
            "140 <Reshape name=block5b_se_reshape, built=True> False\n",
            "141 <Conv2D name=block5b_se_reduce, built=True> False\n",
            "142 <Conv2D name=block5b_se_expand, built=True> False\n",
            "143 <Multiply name=block5b_se_excite, built=True> False\n",
            "144 <Conv2D name=block5b_project_conv, built=True> False\n",
            "145 <BatchNormalization name=block5b_project_bn, built=True> False\n",
            "146 <Dropout name=block5b_drop, built=True> False\n",
            "147 <Add name=block5b_add, built=True> False\n",
            "148 <Conv2D name=block5c_expand_conv, built=True> False\n",
            "149 <BatchNormalization name=block5c_expand_bn, built=True> False\n",
            "150 <Activation name=block5c_expand_activation, built=True> False\n",
            "151 <DepthwiseConv2D name=block5c_dwconv, built=True> False\n",
            "152 <BatchNormalization name=block5c_bn, built=True> False\n",
            "153 <Activation name=block5c_activation, built=True> False\n",
            "154 <GlobalAveragePooling2D name=block5c_se_squeeze, built=True> False\n",
            "155 <Reshape name=block5c_se_reshape, built=True> False\n",
            "156 <Conv2D name=block5c_se_reduce, built=True> False\n",
            "157 <Conv2D name=block5c_se_expand, built=True> False\n",
            "158 <Multiply name=block5c_se_excite, built=True> False\n",
            "159 <Conv2D name=block5c_project_conv, built=True> False\n",
            "160 <BatchNormalization name=block5c_project_bn, built=True> False\n",
            "161 <Dropout name=block5c_drop, built=True> False\n",
            "162 <Add name=block5c_add, built=True> False\n",
            "163 <Conv2D name=block6a_expand_conv, built=True> False\n",
            "164 <BatchNormalization name=block6a_expand_bn, built=True> False\n",
            "165 <Activation name=block6a_expand_activation, built=True> False\n",
            "166 <ZeroPadding2D name=block6a_dwconv_pad, built=True> False\n",
            "167 <DepthwiseConv2D name=block6a_dwconv, built=True> False\n",
            "168 <BatchNormalization name=block6a_bn, built=True> False\n",
            "169 <Activation name=block6a_activation, built=True> False\n",
            "170 <GlobalAveragePooling2D name=block6a_se_squeeze, built=True> False\n",
            "171 <Reshape name=block6a_se_reshape, built=True> False\n",
            "172 <Conv2D name=block6a_se_reduce, built=True> False\n",
            "173 <Conv2D name=block6a_se_expand, built=True> False\n",
            "174 <Multiply name=block6a_se_excite, built=True> False\n",
            "175 <Conv2D name=block6a_project_conv, built=True> False\n",
            "176 <BatchNormalization name=block6a_project_bn, built=True> False\n",
            "177 <Conv2D name=block6b_expand_conv, built=True> False\n",
            "178 <BatchNormalization name=block6b_expand_bn, built=True> False\n",
            "179 <Activation name=block6b_expand_activation, built=True> False\n",
            "180 <DepthwiseConv2D name=block6b_dwconv, built=True> False\n",
            "181 <BatchNormalization name=block6b_bn, built=True> False\n",
            "182 <Activation name=block6b_activation, built=True> False\n",
            "183 <GlobalAveragePooling2D name=block6b_se_squeeze, built=True> False\n",
            "184 <Reshape name=block6b_se_reshape, built=True> False\n",
            "185 <Conv2D name=block6b_se_reduce, built=True> False\n",
            "186 <Conv2D name=block6b_se_expand, built=True> False\n",
            "187 <Multiply name=block6b_se_excite, built=True> False\n",
            "188 <Conv2D name=block6b_project_conv, built=True> False\n",
            "189 <BatchNormalization name=block6b_project_bn, built=True> False\n",
            "190 <Dropout name=block6b_drop, built=True> False\n",
            "191 <Add name=block6b_add, built=True> False\n",
            "192 <Conv2D name=block6c_expand_conv, built=True> False\n",
            "193 <BatchNormalization name=block6c_expand_bn, built=True> False\n",
            "194 <Activation name=block6c_expand_activation, built=True> False\n",
            "195 <DepthwiseConv2D name=block6c_dwconv, built=True> False\n",
            "196 <BatchNormalization name=block6c_bn, built=True> False\n",
            "197 <Activation name=block6c_activation, built=True> False\n",
            "198 <GlobalAveragePooling2D name=block6c_se_squeeze, built=True> False\n",
            "199 <Reshape name=block6c_se_reshape, built=True> False\n",
            "200 <Conv2D name=block6c_se_reduce, built=True> False\n",
            "201 <Conv2D name=block6c_se_expand, built=True> False\n",
            "202 <Multiply name=block6c_se_excite, built=True> False\n",
            "203 <Conv2D name=block6c_project_conv, built=True> False\n",
            "204 <BatchNormalization name=block6c_project_bn, built=True> False\n",
            "205 <Dropout name=block6c_drop, built=True> False\n",
            "206 <Add name=block6c_add, built=True> False\n",
            "207 <Conv2D name=block6d_expand_conv, built=True> False\n",
            "208 <BatchNormalization name=block6d_expand_bn, built=True> False\n",
            "209 <Activation name=block6d_expand_activation, built=True> False\n",
            "210 <DepthwiseConv2D name=block6d_dwconv, built=True> False\n",
            "211 <BatchNormalization name=block6d_bn, built=True> False\n",
            "212 <Activation name=block6d_activation, built=True> False\n",
            "213 <GlobalAveragePooling2D name=block6d_se_squeeze, built=True> False\n",
            "214 <Reshape name=block6d_se_reshape, built=True> False\n",
            "215 <Conv2D name=block6d_se_reduce, built=True> False\n",
            "216 <Conv2D name=block6d_se_expand, built=True> False\n",
            "217 <Multiply name=block6d_se_excite, built=True> False\n",
            "218 <Conv2D name=block6d_project_conv, built=True> False\n",
            "219 <BatchNormalization name=block6d_project_bn, built=True> False\n",
            "220 <Dropout name=block6d_drop, built=True> False\n",
            "221 <Add name=block6d_add, built=True> False\n",
            "222 <Conv2D name=block7a_expand_conv, built=True> False\n",
            "223 <BatchNormalization name=block7a_expand_bn, built=True> False\n",
            "224 <Activation name=block7a_expand_activation, built=True> False\n",
            "225 <DepthwiseConv2D name=block7a_dwconv, built=True> False\n",
            "226 <BatchNormalization name=block7a_bn, built=True> False\n",
            "227 <Activation name=block7a_activation, built=True> False\n",
            "228 <GlobalAveragePooling2D name=block7a_se_squeeze, built=True> False\n",
            "229 <Reshape name=block7a_se_reshape, built=True> False\n",
            "230 <Conv2D name=block7a_se_reduce, built=True> False\n",
            "231 <Conv2D name=block7a_se_expand, built=True> False\n",
            "232 <Multiply name=block7a_se_excite, built=True> False\n",
            "233 <Conv2D name=block7a_project_conv, built=True> False\n",
            "234 <BatchNormalization name=block7a_project_bn, built=True> False\n",
            "235 <Conv2D name=top_conv, built=True> False\n",
            "236 <BatchNormalization name=top_bn, built=True> False\n",
            "237 <Activation name=top_activation, built=True> False\n",
            "238 <GlobalAveragePooling2D name=avg_pool, built=True> False\n"
          ]
        }
      ]
    },
    {
      "cell_type": "code",
      "source": [
        "model_3.compile(loss = tf.keras.losses.SparseCategoricalCrossentropy(),\n",
        "                optimizer = tf.keras.optimizers.Adam(),\n",
        "                metrics=['accuracy'])"
      ],
      "metadata": {
        "id": "v_kGQKRTiovS"
      },
      "execution_count": 22,
      "outputs": []
    },
    {
      "cell_type": "code",
      "source": [
        "history_3 = model_3.fit(train_data, epochs=5, validation_data=valid_data, validation_steps=int(len(valid_data)/4))"
      ],
      "metadata": {
        "colab": {
          "base_uri": "https://localhost:8080/"
        },
        "id": "LgoHKtcFi-oL",
        "outputId": "847b99d3-87cb-4656-da07-17433f751f84"
      },
      "execution_count": 23,
      "outputs": [
        {
          "output_type": "stream",
          "name": "stdout",
          "text": [
            "Epoch 1/5\n",
            "\u001b[1m31/31\u001b[0m \u001b[32m━━━━━━━━━━━━━━━━━━━━\u001b[0m\u001b[37m\u001b[0m \u001b[1m189s\u001b[0m 6s/step - accuracy: 0.2751 - loss: 1.8400 - val_accuracy: 0.6073 - val_loss: 1.2716\n",
            "Epoch 2/5\n",
            "\u001b[1m31/31\u001b[0m \u001b[32m━━━━━━━━━━━━━━━━━━━━\u001b[0m\u001b[37m\u001b[0m \u001b[1m47s\u001b[0m 787ms/step - accuracy: 0.6614 - loss: 1.1818 - val_accuracy: 0.7073 - val_loss: 0.9889\n",
            "Epoch 3/5\n",
            "\u001b[1m31/31\u001b[0m \u001b[32m━━━━━━━━━━━━━━━━━━━━\u001b[0m\u001b[37m\u001b[0m \u001b[1m30s\u001b[0m 410ms/step - accuracy: 0.7142 - loss: 0.9431 - val_accuracy: 0.7323 - val_loss: 0.8813\n",
            "Epoch 4/5\n",
            "\u001b[1m31/31\u001b[0m \u001b[32m━━━━━━━━━━━━━━━━━━━━\u001b[0m\u001b[37m\u001b[0m \u001b[1m17s\u001b[0m 280ms/step - accuracy: 0.7555 - loss: 0.8296 - val_accuracy: 0.7167 - val_loss: 0.8629\n",
            "Epoch 5/5\n",
            "\u001b[1m31/31\u001b[0m \u001b[32m━━━━━━━━━━━━━━━━━━━━\u001b[0m\u001b[37m\u001b[0m \u001b[1m10s\u001b[0m 320ms/step - accuracy: 0.7317 - loss: 0.7947 - val_accuracy: 0.7323 - val_loss: 0.8211\n"
          ]
        }
      ]
    },
    {
      "cell_type": "markdown",
      "source": [
        "**Fine-tuning step**: undo the last 10 layers and fit the model for another 5 epochs"
      ],
      "metadata": {
        "id": "4WGuOU0o9biv"
      }
    },
    {
      "cell_type": "code",
      "source": [
        "model_3 = create_fine_tune_model(model_3, 2)"
      ],
      "metadata": {
        "id": "kJ8K89QS59zP"
      },
      "execution_count": 24,
      "outputs": []
    },
    {
      "cell_type": "code",
      "source": [
        "for i, layer in enumerate(model_3.layers[2].layers):\n",
        "  print(i, layer, layer.trainable)"
      ],
      "metadata": {
        "colab": {
          "base_uri": "https://localhost:8080/"
        },
        "id": "dmu9pNZP6GNu",
        "outputId": "e1fa2b97-5b3e-43ea-de91-9197f0993187"
      },
      "execution_count": null,
      "outputs": [
        {
          "output_type": "stream",
          "name": "stdout",
          "text": [
            "0 <InputLayer name=input_layer_8, built=True> False\n",
            "1 <Rescaling name=rescaling_4, built=True> False\n",
            "2 <Normalization name=normalization_2, built=True> False\n",
            "3 <Rescaling name=rescaling_5, built=True> False\n",
            "4 <ZeroPadding2D name=stem_conv_pad, built=True> False\n",
            "5 <Conv2D name=stem_conv, built=True> False\n",
            "6 <BatchNormalization name=stem_bn, built=True> False\n",
            "7 <Activation name=stem_activation, built=True> False\n",
            "8 <DepthwiseConv2D name=block1a_dwconv, built=True> False\n",
            "9 <BatchNormalization name=block1a_bn, built=True> False\n",
            "10 <Activation name=block1a_activation, built=True> False\n",
            "11 <GlobalAveragePooling2D name=block1a_se_squeeze, built=True> False\n",
            "12 <Reshape name=block1a_se_reshape, built=True> False\n",
            "13 <Conv2D name=block1a_se_reduce, built=True> False\n",
            "14 <Conv2D name=block1a_se_expand, built=True> False\n",
            "15 <Multiply name=block1a_se_excite, built=True> False\n",
            "16 <Conv2D name=block1a_project_conv, built=True> False\n",
            "17 <BatchNormalization name=block1a_project_bn, built=True> False\n",
            "18 <Conv2D name=block2a_expand_conv, built=True> False\n",
            "19 <BatchNormalization name=block2a_expand_bn, built=True> False\n",
            "20 <Activation name=block2a_expand_activation, built=True> False\n",
            "21 <ZeroPadding2D name=block2a_dwconv_pad, built=True> False\n",
            "22 <DepthwiseConv2D name=block2a_dwconv, built=True> False\n",
            "23 <BatchNormalization name=block2a_bn, built=True> False\n",
            "24 <Activation name=block2a_activation, built=True> False\n",
            "25 <GlobalAveragePooling2D name=block2a_se_squeeze, built=True> False\n",
            "26 <Reshape name=block2a_se_reshape, built=True> False\n",
            "27 <Conv2D name=block2a_se_reduce, built=True> False\n",
            "28 <Conv2D name=block2a_se_expand, built=True> False\n",
            "29 <Multiply name=block2a_se_excite, built=True> False\n",
            "30 <Conv2D name=block2a_project_conv, built=True> False\n",
            "31 <BatchNormalization name=block2a_project_bn, built=True> False\n",
            "32 <Conv2D name=block2b_expand_conv, built=True> False\n",
            "33 <BatchNormalization name=block2b_expand_bn, built=True> False\n",
            "34 <Activation name=block2b_expand_activation, built=True> False\n",
            "35 <DepthwiseConv2D name=block2b_dwconv, built=True> False\n",
            "36 <BatchNormalization name=block2b_bn, built=True> False\n",
            "37 <Activation name=block2b_activation, built=True> False\n",
            "38 <GlobalAveragePooling2D name=block2b_se_squeeze, built=True> False\n",
            "39 <Reshape name=block2b_se_reshape, built=True> False\n",
            "40 <Conv2D name=block2b_se_reduce, built=True> False\n",
            "41 <Conv2D name=block2b_se_expand, built=True> False\n",
            "42 <Multiply name=block2b_se_excite, built=True> False\n",
            "43 <Conv2D name=block2b_project_conv, built=True> False\n",
            "44 <BatchNormalization name=block2b_project_bn, built=True> False\n",
            "45 <Dropout name=block2b_drop, built=True> False\n",
            "46 <Add name=block2b_add, built=True> False\n",
            "47 <Conv2D name=block3a_expand_conv, built=True> False\n",
            "48 <BatchNormalization name=block3a_expand_bn, built=True> False\n",
            "49 <Activation name=block3a_expand_activation, built=True> False\n",
            "50 <ZeroPadding2D name=block3a_dwconv_pad, built=True> False\n",
            "51 <DepthwiseConv2D name=block3a_dwconv, built=True> False\n",
            "52 <BatchNormalization name=block3a_bn, built=True> False\n",
            "53 <Activation name=block3a_activation, built=True> False\n",
            "54 <GlobalAveragePooling2D name=block3a_se_squeeze, built=True> False\n",
            "55 <Reshape name=block3a_se_reshape, built=True> False\n",
            "56 <Conv2D name=block3a_se_reduce, built=True> False\n",
            "57 <Conv2D name=block3a_se_expand, built=True> False\n",
            "58 <Multiply name=block3a_se_excite, built=True> False\n",
            "59 <Conv2D name=block3a_project_conv, built=True> False\n",
            "60 <BatchNormalization name=block3a_project_bn, built=True> False\n",
            "61 <Conv2D name=block3b_expand_conv, built=True> False\n",
            "62 <BatchNormalization name=block3b_expand_bn, built=True> False\n",
            "63 <Activation name=block3b_expand_activation, built=True> False\n",
            "64 <DepthwiseConv2D name=block3b_dwconv, built=True> False\n",
            "65 <BatchNormalization name=block3b_bn, built=True> False\n",
            "66 <Activation name=block3b_activation, built=True> False\n",
            "67 <GlobalAveragePooling2D name=block3b_se_squeeze, built=True> False\n",
            "68 <Reshape name=block3b_se_reshape, built=True> False\n",
            "69 <Conv2D name=block3b_se_reduce, built=True> False\n",
            "70 <Conv2D name=block3b_se_expand, built=True> False\n",
            "71 <Multiply name=block3b_se_excite, built=True> False\n",
            "72 <Conv2D name=block3b_project_conv, built=True> False\n",
            "73 <BatchNormalization name=block3b_project_bn, built=True> False\n",
            "74 <Dropout name=block3b_drop, built=True> False\n",
            "75 <Add name=block3b_add, built=True> False\n",
            "76 <Conv2D name=block4a_expand_conv, built=True> False\n",
            "77 <BatchNormalization name=block4a_expand_bn, built=True> False\n",
            "78 <Activation name=block4a_expand_activation, built=True> False\n",
            "79 <ZeroPadding2D name=block4a_dwconv_pad, built=True> False\n",
            "80 <DepthwiseConv2D name=block4a_dwconv, built=True> False\n",
            "81 <BatchNormalization name=block4a_bn, built=True> False\n",
            "82 <Activation name=block4a_activation, built=True> False\n",
            "83 <GlobalAveragePooling2D name=block4a_se_squeeze, built=True> False\n",
            "84 <Reshape name=block4a_se_reshape, built=True> False\n",
            "85 <Conv2D name=block4a_se_reduce, built=True> False\n",
            "86 <Conv2D name=block4a_se_expand, built=True> False\n",
            "87 <Multiply name=block4a_se_excite, built=True> False\n",
            "88 <Conv2D name=block4a_project_conv, built=True> False\n",
            "89 <BatchNormalization name=block4a_project_bn, built=True> False\n",
            "90 <Conv2D name=block4b_expand_conv, built=True> False\n",
            "91 <BatchNormalization name=block4b_expand_bn, built=True> False\n",
            "92 <Activation name=block4b_expand_activation, built=True> False\n",
            "93 <DepthwiseConv2D name=block4b_dwconv, built=True> False\n",
            "94 <BatchNormalization name=block4b_bn, built=True> False\n",
            "95 <Activation name=block4b_activation, built=True> False\n",
            "96 <GlobalAveragePooling2D name=block4b_se_squeeze, built=True> False\n",
            "97 <Reshape name=block4b_se_reshape, built=True> False\n",
            "98 <Conv2D name=block4b_se_reduce, built=True> False\n",
            "99 <Conv2D name=block4b_se_expand, built=True> False\n",
            "100 <Multiply name=block4b_se_excite, built=True> False\n",
            "101 <Conv2D name=block4b_project_conv, built=True> False\n",
            "102 <BatchNormalization name=block4b_project_bn, built=True> False\n",
            "103 <Dropout name=block4b_drop, built=True> False\n",
            "104 <Add name=block4b_add, built=True> False\n",
            "105 <Conv2D name=block4c_expand_conv, built=True> False\n",
            "106 <BatchNormalization name=block4c_expand_bn, built=True> False\n",
            "107 <Activation name=block4c_expand_activation, built=True> False\n",
            "108 <DepthwiseConv2D name=block4c_dwconv, built=True> False\n",
            "109 <BatchNormalization name=block4c_bn, built=True> False\n",
            "110 <Activation name=block4c_activation, built=True> False\n",
            "111 <GlobalAveragePooling2D name=block4c_se_squeeze, built=True> False\n",
            "112 <Reshape name=block4c_se_reshape, built=True> False\n",
            "113 <Conv2D name=block4c_se_reduce, built=True> False\n",
            "114 <Conv2D name=block4c_se_expand, built=True> False\n",
            "115 <Multiply name=block4c_se_excite, built=True> False\n",
            "116 <Conv2D name=block4c_project_conv, built=True> False\n",
            "117 <BatchNormalization name=block4c_project_bn, built=True> False\n",
            "118 <Dropout name=block4c_drop, built=True> False\n",
            "119 <Add name=block4c_add, built=True> False\n",
            "120 <Conv2D name=block5a_expand_conv, built=True> False\n",
            "121 <BatchNormalization name=block5a_expand_bn, built=True> False\n",
            "122 <Activation name=block5a_expand_activation, built=True> False\n",
            "123 <DepthwiseConv2D name=block5a_dwconv, built=True> False\n",
            "124 <BatchNormalization name=block5a_bn, built=True> False\n",
            "125 <Activation name=block5a_activation, built=True> False\n",
            "126 <GlobalAveragePooling2D name=block5a_se_squeeze, built=True> False\n",
            "127 <Reshape name=block5a_se_reshape, built=True> False\n",
            "128 <Conv2D name=block5a_se_reduce, built=True> False\n",
            "129 <Conv2D name=block5a_se_expand, built=True> False\n",
            "130 <Multiply name=block5a_se_excite, built=True> False\n",
            "131 <Conv2D name=block5a_project_conv, built=True> False\n",
            "132 <BatchNormalization name=block5a_project_bn, built=True> False\n",
            "133 <Conv2D name=block5b_expand_conv, built=True> False\n",
            "134 <BatchNormalization name=block5b_expand_bn, built=True> False\n",
            "135 <Activation name=block5b_expand_activation, built=True> False\n",
            "136 <DepthwiseConv2D name=block5b_dwconv, built=True> False\n",
            "137 <BatchNormalization name=block5b_bn, built=True> False\n",
            "138 <Activation name=block5b_activation, built=True> False\n",
            "139 <GlobalAveragePooling2D name=block5b_se_squeeze, built=True> False\n",
            "140 <Reshape name=block5b_se_reshape, built=True> False\n",
            "141 <Conv2D name=block5b_se_reduce, built=True> False\n",
            "142 <Conv2D name=block5b_se_expand, built=True> False\n",
            "143 <Multiply name=block5b_se_excite, built=True> False\n",
            "144 <Conv2D name=block5b_project_conv, built=True> False\n",
            "145 <BatchNormalization name=block5b_project_bn, built=True> False\n",
            "146 <Dropout name=block5b_drop, built=True> False\n",
            "147 <Add name=block5b_add, built=True> False\n",
            "148 <Conv2D name=block5c_expand_conv, built=True> False\n",
            "149 <BatchNormalization name=block5c_expand_bn, built=True> False\n",
            "150 <Activation name=block5c_expand_activation, built=True> False\n",
            "151 <DepthwiseConv2D name=block5c_dwconv, built=True> False\n",
            "152 <BatchNormalization name=block5c_bn, built=True> False\n",
            "153 <Activation name=block5c_activation, built=True> False\n",
            "154 <GlobalAveragePooling2D name=block5c_se_squeeze, built=True> False\n",
            "155 <Reshape name=block5c_se_reshape, built=True> False\n",
            "156 <Conv2D name=block5c_se_reduce, built=True> False\n",
            "157 <Conv2D name=block5c_se_expand, built=True> False\n",
            "158 <Multiply name=block5c_se_excite, built=True> False\n",
            "159 <Conv2D name=block5c_project_conv, built=True> False\n",
            "160 <BatchNormalization name=block5c_project_bn, built=True> False\n",
            "161 <Dropout name=block5c_drop, built=True> False\n",
            "162 <Add name=block5c_add, built=True> False\n",
            "163 <Conv2D name=block6a_expand_conv, built=True> False\n",
            "164 <BatchNormalization name=block6a_expand_bn, built=True> False\n",
            "165 <Activation name=block6a_expand_activation, built=True> False\n",
            "166 <ZeroPadding2D name=block6a_dwconv_pad, built=True> False\n",
            "167 <DepthwiseConv2D name=block6a_dwconv, built=True> False\n",
            "168 <BatchNormalization name=block6a_bn, built=True> False\n",
            "169 <Activation name=block6a_activation, built=True> False\n",
            "170 <GlobalAveragePooling2D name=block6a_se_squeeze, built=True> False\n",
            "171 <Reshape name=block6a_se_reshape, built=True> False\n",
            "172 <Conv2D name=block6a_se_reduce, built=True> False\n",
            "173 <Conv2D name=block6a_se_expand, built=True> False\n",
            "174 <Multiply name=block6a_se_excite, built=True> False\n",
            "175 <Conv2D name=block6a_project_conv, built=True> False\n",
            "176 <BatchNormalization name=block6a_project_bn, built=True> False\n",
            "177 <Conv2D name=block6b_expand_conv, built=True> False\n",
            "178 <BatchNormalization name=block6b_expand_bn, built=True> False\n",
            "179 <Activation name=block6b_expand_activation, built=True> False\n",
            "180 <DepthwiseConv2D name=block6b_dwconv, built=True> False\n",
            "181 <BatchNormalization name=block6b_bn, built=True> False\n",
            "182 <Activation name=block6b_activation, built=True> False\n",
            "183 <GlobalAveragePooling2D name=block6b_se_squeeze, built=True> False\n",
            "184 <Reshape name=block6b_se_reshape, built=True> False\n",
            "185 <Conv2D name=block6b_se_reduce, built=True> False\n",
            "186 <Conv2D name=block6b_se_expand, built=True> False\n",
            "187 <Multiply name=block6b_se_excite, built=True> False\n",
            "188 <Conv2D name=block6b_project_conv, built=True> False\n",
            "189 <BatchNormalization name=block6b_project_bn, built=True> False\n",
            "190 <Dropout name=block6b_drop, built=True> False\n",
            "191 <Add name=block6b_add, built=True> False\n",
            "192 <Conv2D name=block6c_expand_conv, built=True> False\n",
            "193 <BatchNormalization name=block6c_expand_bn, built=True> False\n",
            "194 <Activation name=block6c_expand_activation, built=True> False\n",
            "195 <DepthwiseConv2D name=block6c_dwconv, built=True> False\n",
            "196 <BatchNormalization name=block6c_bn, built=True> False\n",
            "197 <Activation name=block6c_activation, built=True> False\n",
            "198 <GlobalAveragePooling2D name=block6c_se_squeeze, built=True> False\n",
            "199 <Reshape name=block6c_se_reshape, built=True> False\n",
            "200 <Conv2D name=block6c_se_reduce, built=True> False\n",
            "201 <Conv2D name=block6c_se_expand, built=True> False\n",
            "202 <Multiply name=block6c_se_excite, built=True> False\n",
            "203 <Conv2D name=block6c_project_conv, built=True> False\n",
            "204 <BatchNormalization name=block6c_project_bn, built=True> False\n",
            "205 <Dropout name=block6c_drop, built=True> False\n",
            "206 <Add name=block6c_add, built=True> False\n",
            "207 <Conv2D name=block6d_expand_conv, built=True> False\n",
            "208 <BatchNormalization name=block6d_expand_bn, built=True> False\n",
            "209 <Activation name=block6d_expand_activation, built=True> False\n",
            "210 <DepthwiseConv2D name=block6d_dwconv, built=True> False\n",
            "211 <BatchNormalization name=block6d_bn, built=True> False\n",
            "212 <Activation name=block6d_activation, built=True> False\n",
            "213 <GlobalAveragePooling2D name=block6d_se_squeeze, built=True> False\n",
            "214 <Reshape name=block6d_se_reshape, built=True> False\n",
            "215 <Conv2D name=block6d_se_reduce, built=True> False\n",
            "216 <Conv2D name=block6d_se_expand, built=True> False\n",
            "217 <Multiply name=block6d_se_excite, built=True> False\n",
            "218 <Conv2D name=block6d_project_conv, built=True> False\n",
            "219 <BatchNormalization name=block6d_project_bn, built=True> False\n",
            "220 <Dropout name=block6d_drop, built=True> False\n",
            "221 <Add name=block6d_add, built=True> False\n",
            "222 <Conv2D name=block7a_expand_conv, built=True> False\n",
            "223 <BatchNormalization name=block7a_expand_bn, built=True> False\n",
            "224 <Activation name=block7a_expand_activation, built=True> False\n",
            "225 <DepthwiseConv2D name=block7a_dwconv, built=True> False\n",
            "226 <BatchNormalization name=block7a_bn, built=True> False\n",
            "227 <Activation name=block7a_activation, built=True> False\n",
            "228 <GlobalAveragePooling2D name=block7a_se_squeeze, built=True> False\n",
            "229 <Reshape name=block7a_se_reshape, built=True> True\n",
            "230 <Conv2D name=block7a_se_reduce, built=True> True\n",
            "231 <Conv2D name=block7a_se_expand, built=True> True\n",
            "232 <Multiply name=block7a_se_excite, built=True> True\n",
            "233 <Conv2D name=block7a_project_conv, built=True> True\n",
            "234 <BatchNormalization name=block7a_project_bn, built=True> True\n",
            "235 <Conv2D name=top_conv, built=True> True\n",
            "236 <BatchNormalization name=top_bn, built=True> True\n",
            "237 <Activation name=top_activation, built=True> True\n",
            "238 <GlobalAveragePooling2D name=avg_pool, built=True> True\n"
          ]
        }
      ]
    },
    {
      "cell_type": "code",
      "source": [
        "model_3.compile(loss = tf.keras.losses.SparseCategoricalCrossentropy(),\n",
        "                optimizer = tf.keras.optimizers.Adam(learning_rate=0.0001),\n",
        "                metrics=['accuracy'])"
      ],
      "metadata": {
        "id": "LI0oqBZh8nkb"
      },
      "execution_count": 25,
      "outputs": []
    },
    {
      "cell_type": "code",
      "source": [
        "checkpoint_callback = tf.keras.callbacks.ModelCheckpoint(\"/content/drive/MyDrive/Colab Notebooks/model_3_checkpoint.weights.h5\", monitor='val_loss', save_weights_only=True ,save_best_only=True)"
      ],
      "metadata": {
        "id": "VsDB3k_Z6WDF"
      },
      "execution_count": 26,
      "outputs": []
    },
    {
      "cell_type": "code",
      "source": [
        "history_3_2 = model_3.fit(train_data, epochs=10, initial_epoch = history_3.epoch[-1], validation_data=valid_data, validation_steps=int(len(valid_data)/4), callbacks=[checkpoint_callback])"
      ],
      "metadata": {
        "colab": {
          "base_uri": "https://localhost:8080/"
        },
        "id": "QhrQmNYA6XVx",
        "outputId": "1a89b37b-1cea-4a7b-d259-3e3168a2d3ae"
      },
      "execution_count": 27,
      "outputs": [
        {
          "output_type": "stream",
          "name": "stdout",
          "text": [
            "Epoch 5/10\n",
            "\u001b[1m31/31\u001b[0m \u001b[32m━━━━━━━━━━━━━━━━━━━━\u001b[0m\u001b[37m\u001b[0m \u001b[1m25s\u001b[0m 400ms/step - accuracy: 0.7710 - loss: 0.7921 - val_accuracy: 0.7552 - val_loss: 0.7744\n",
            "Epoch 6/10\n",
            "\u001b[1m31/31\u001b[0m \u001b[32m━━━━━━━━━━━━━━━━━━━━\u001b[0m\u001b[37m\u001b[0m \u001b[1m17s\u001b[0m 321ms/step - accuracy: 0.8061 - loss: 0.6777 - val_accuracy: 0.7656 - val_loss: 0.7100\n",
            "Epoch 7/10\n",
            "\u001b[1m31/31\u001b[0m \u001b[32m━━━━━━━━━━━━━━━━━━━━\u001b[0m\u001b[37m\u001b[0m \u001b[1m9s\u001b[0m 284ms/step - accuracy: 0.7874 - loss: 0.6832 - val_accuracy: 0.7635 - val_loss: 0.7047\n",
            "Epoch 8/10\n",
            "\u001b[1m31/31\u001b[0m \u001b[32m━━━━━━━━━━━━━━━━━━━━\u001b[0m\u001b[37m\u001b[0m \u001b[1m22s\u001b[0m 677ms/step - accuracy: 0.8145 - loss: 0.6131 - val_accuracy: 0.7677 - val_loss: 0.6977\n",
            "Epoch 9/10\n",
            "\u001b[1m31/31\u001b[0m \u001b[32m━━━━━━━━━━━━━━━━━━━━\u001b[0m\u001b[37m\u001b[0m \u001b[1m40s\u001b[0m 656ms/step - accuracy: 0.8319 - loss: 0.5596 - val_accuracy: 0.7760 - val_loss: 0.6816\n",
            "Epoch 10/10\n",
            "\u001b[1m31/31\u001b[0m \u001b[32m━━━━━━━━━━━━━━━━━━━━\u001b[0m\u001b[37m\u001b[0m \u001b[1m22s\u001b[0m 696ms/step - accuracy: 0.8281 - loss: 0.5508 - val_accuracy: 0.7750 - val_loss: 0.6698\n"
          ]
        }
      ]
    },
    {
      "cell_type": "code",
      "source": [
        "model_3.evaluate(valid_data)"
      ],
      "metadata": {
        "colab": {
          "base_uri": "https://localhost:8080/"
        },
        "id": "Jx0J4_atA3rf",
        "outputId": "a33100f9-4f1d-4e87-825e-cc8e9387a830"
      },
      "execution_count": 28,
      "outputs": [
        {
          "output_type": "stream",
          "name": "stdout",
          "text": [
            "\u001b[1m121/121\u001b[0m \u001b[32m━━━━━━━━━━━━━━━━━━━━\u001b[0m\u001b[37m\u001b[0m \u001b[1m474s\u001b[0m 4s/step - accuracy: 0.7798 - loss: 0.6611\n"
          ]
        },
        {
          "output_type": "execute_result",
          "data": {
            "text/plain": [
              "[0.6316186189651489, 0.7837347984313965]"
            ]
          },
          "metadata": {},
          "execution_count": 28
        }
      ]
    },
    {
      "cell_type": "code",
      "source": [
        "def plot_histories(history_list):\n",
        "  ''' Append list of histories for models with several fitting steps '''\n",
        "  total_epochs = np.array([])\n",
        "  total_loss = np.array([])\n",
        "  total_val_loss = np.array([])\n",
        "  total_acc = np.array([])\n",
        "  total_val_acc = np.array([])\n",
        "\n",
        "  # Concatenate histories\n",
        "  for hist in history_list:\n",
        "    total_epochs = np.append(total_epochs, hist.epoch)\n",
        "    total_loss = np.append(total_loss, hist.history['loss'])\n",
        "    total_val_loss = np.append(total_val_loss, hist.history['val_loss'])\n",
        "    total_acc = np.append(total_acc, hist.history['loss'])\n",
        "    total_val_acc = np.append(total_val_acc, hist.history['val_loss'])\n",
        "\n",
        "  # Create 1D array for plotting\n",
        "  total_epochs = total_epochs.flatten()\n",
        "  total_loss = total_loss.flatten()\n",
        "  total_val_loss = total_val_loss.flatten()\n",
        "  total_acc = total_acc.flatten()\n",
        "  total_val_acc = total_val_acc.flatten()\n",
        "\n",
        "  # Plot Loss and accuracy plots\n",
        "  plt.figure()\n",
        "  plt.plot(total_epochs, total_loss, label='train')\n",
        "  plt.plot(total_epochs, total_val_loss, label = 'validation')\n",
        "  plt.xlabel('epoch')\n",
        "  plt.ylabel('loss')\n",
        "  plt.legend()\n",
        "\n",
        "  plt.figure()\n",
        "  plt.plot(total_epochs, total_acc, label='train')\n",
        "  plt.plot(total_epochs, total_val_acc, label = 'validation')\n",
        "  plt.xlabel('epoch')\n",
        "  plt.ylabel('accuracy')\n",
        "  plt.legend()"
      ],
      "metadata": {
        "id": "vunkapXZlgZR"
      },
      "execution_count": null,
      "outputs": []
    },
    {
      "cell_type": "code",
      "source": [
        "plot_histories([history_3, history_3_2])"
      ],
      "metadata": {
        "colab": {
          "base_uri": "https://localhost:8080/",
          "height": 881
        },
        "id": "4TJUGS7ZE2zf",
        "outputId": "ce458cc0-95f9-456b-f75d-629030c161e4"
      },
      "execution_count": null,
      "outputs": [
        {
          "output_type": "display_data",
          "data": {
            "text/plain": [
              "<Figure size 640x480 with 1 Axes>"
            ],
            "image/png": "[encoded data removed]"
          },
          "metadata": {}
        },
        {
          "output_type": "display_data",
          "data": {
            "text/plain": [
              "<Figure size 640x480 with 1 Axes>"
            ],
            "image/png": "[encoded data removed]"
          },
          "metadata": {}
        }
      ]
    },
    {
      "cell_type": "markdown",
      "source": [
        "## Fine-tune on the entire data"
      ],
      "metadata": {
        "id": "WSaUR4UcICqb"
      }
    },
    {
      "cell_type": "code",
      "source": [
        "all_train_data = tf.keras.utils.image_dataset_from_directory(train_dir,\n",
        "                                                         labels = 'inferred',\n",
        "                                                         label_mode = 'int',\n",
        "                                                         color_mode = 'rgb',\n",
        "                                                         image_size = (IMG_HEIGHT, IMG_WIDTH),\n",
        "                                                         batch_size = 32)"
      ],
      "metadata": {
        "colab": {
          "base_uri": "https://localhost:8080/"
        },
        "id": "P_t9VWlHIH0r",
        "outputId": "2cfd25e2-e805-4fe5-8db8-a4ab98fc8713"
      },
      "execution_count": 10,
      "outputs": [
        {
          "output_type": "stream",
          "name": "stdout",
          "text": [
            "Found 4827 files belonging to 7 classes.\n"
          ]
        }
      ]
    },
    {
      "cell_type": "code",
      "source": [
        "# Dataset optimization for performance\n",
        "AUTOTUNE = tf.data.AUTOTUNE\n",
        "\n",
        "all_train_data = all_train_data.cache().prefetch(buffer_size=AUTOTUNE)\n",
        "test_data = test_data.cache().prefetch(buffer_size=AUTOTUNE)"
      ],
      "metadata": {
        "id": "Ymp-DTkxKcas"
      },
      "execution_count": 11,
      "outputs": []
    },
    {
      "cell_type": "code",
      "source": [
        "model_4 = create_base_model_2(7, IMG_HEIGHT, IMG_WIDTH, CHANNELS)"
      ],
      "metadata": {
        "id": "8mU9n5pZKqZN"
      },
      "execution_count": 12,
      "outputs": []
    },
    {
      "cell_type": "code",
      "source": [
        "model_4.compile(loss = tf.keras.losses.SparseCategoricalCrossentropy(),\n",
        "                optimizer = tf.keras.optimizers.Adam(),\n",
        "                metrics = ['accuracy'])"
      ],
      "metadata": {
        "id": "KOLCgtv5Kzvh"
      },
      "execution_count": 13,
      "outputs": []
    },
    {
      "cell_type": "code",
      "source": [
        "# Use a smaller dataset for feature extraction\n",
        "history_4 = model_4.fit(train_data, epochs=5)"
      ],
      "metadata": {
        "colab": {
          "base_uri": "https://localhost:8080/"
        },
        "id": "3czhU3CnLGn9",
        "outputId": "6b3dc404-f58b-40cf-b227-1c8b92703322"
      },
      "execution_count": 14,
      "outputs": [
        {
          "output_type": "stream",
          "name": "stdout",
          "text": [
            "Epoch 1/5\n",
            "\u001b[1m31/31\u001b[0m \u001b[32m━━━━━━━━━━━━━━━━━━━━\u001b[0m\u001b[37m\u001b[0m \u001b[1m194s\u001b[0m 6s/step - accuracy: 0.2912 - loss: 1.7994\n",
            "Epoch 2/5\n",
            "\u001b[1m31/31\u001b[0m \u001b[32m━━━━━━━━━━━━━━━━━━━━\u001b[0m\u001b[37m\u001b[0m \u001b[1m23s\u001b[0m 120ms/step - accuracy: 0.6631 - loss: 1.1658\n",
            "Epoch 3/5\n",
            "\u001b[1m31/31\u001b[0m \u001b[32m━━━━━━━━━━━━━━━━━━━━\u001b[0m\u001b[37m\u001b[0m \u001b[1m5s\u001b[0m 130ms/step - accuracy: 0.7027 - loss: 0.9533\n",
            "Epoch 4/5\n",
            "\u001b[1m31/31\u001b[0m \u001b[32m━━━━━━━━━━━━━━━━━━━━\u001b[0m\u001b[37m\u001b[0m \u001b[1m5s\u001b[0m 150ms/step - accuracy: 0.7309 - loss: 0.8473\n",
            "Epoch 5/5\n",
            "\u001b[1m31/31\u001b[0m \u001b[32m━━━━━━━━━━━━━━━━━━━━\u001b[0m\u001b[37m\u001b[0m \u001b[1m4s\u001b[0m 119ms/step - accuracy: 0.7962 - loss: 0.7154\n"
          ]
        }
      ]
    },
    {
      "cell_type": "code",
      "source": [
        "model_4 = create_fine_tune_model(model_4, 2)"
      ],
      "metadata": {
        "id": "thDHZhK-L2hq"
      },
      "execution_count": 17,
      "outputs": []
    },
    {
      "cell_type": "code",
      "source": [
        "# Recompile model after changing layer properties. For fine-tuning, we use smaller learning rate to avoid losing previous training information.\n",
        "model_4.compile(loss = tf.keras.losses.SparseCategoricalCrossentropy(),\n",
        "                optimizer = tf.keras.optimizers.Adam(learning_rate=0.0001),\n",
        "                metrics = ['accuracy'])"
      ],
      "metadata": {
        "id": "vf82Yv0D1DmC"
      },
      "execution_count": 18,
      "outputs": []
    },
    {
      "cell_type": "code",
      "source": [
        "# Use the entire dataset for fine-tuning\n",
        "history_4_2 = model_4.fit(all_train_data, epochs=10, initial_epoch = history_3.epoch[-1])"
      ],
      "metadata": {
        "colab": {
          "base_uri": "https://localhost:8080/"
        },
        "id": "VSTNNa-aL3nq",
        "outputId": "53bf754d-ae1c-4ebe-9a98-e89cda6c4a87"
      },
      "execution_count": 29,
      "outputs": [
        {
          "output_type": "stream",
          "name": "stdout",
          "text": [
            "Epoch 5/10\n",
            "\u001b[1m151/151\u001b[0m \u001b[32m━━━━━━━━━━━━━━━━━━━━\u001b[0m\u001b[37m\u001b[0m \u001b[1m36s\u001b[0m 153ms/step - accuracy: 0.7167 - loss: 0.8697\n",
            "Epoch 6/10\n",
            "\u001b[1m151/151\u001b[0m \u001b[32m━━━━━━━━━━━━━━━━━━━━\u001b[0m\u001b[37m\u001b[0m \u001b[1m29s\u001b[0m 75ms/step - accuracy: 0.7812 - loss: 0.6719\n",
            "Epoch 7/10\n",
            "\u001b[1m151/151\u001b[0m \u001b[32m━━━━━━━━━━━━━━━━━━━━\u001b[0m\u001b[37m\u001b[0m \u001b[1m11s\u001b[0m 76ms/step - accuracy: 0.8049 - loss: 0.6098\n",
            "Epoch 8/10\n",
            "\u001b[1m151/151\u001b[0m \u001b[32m━━━━━━━━━━━━━━━━━━━━\u001b[0m\u001b[37m\u001b[0m \u001b[1m11s\u001b[0m 76ms/step - accuracy: 0.8247 - loss: 0.5450\n",
            "Epoch 9/10\n",
            "\u001b[1m151/151\u001b[0m \u001b[32m━━━━━━━━━━━━━━━━━━━━\u001b[0m\u001b[37m\u001b[0m \u001b[1m11s\u001b[0m 75ms/step - accuracy: 0.8224 - loss: 0.5199\n",
            "Epoch 10/10\n",
            "\u001b[1m151/151\u001b[0m \u001b[32m━━━━━━━━━━━━━━━━━━━━\u001b[0m\u001b[37m\u001b[0m \u001b[1m20s\u001b[0m 75ms/step - accuracy: 0.8394 - loss: 0.4822\n"
          ]
        }
      ]
    },
    {
      "cell_type": "markdown",
      "source": [
        "### Compare model performance for fine-tuned models"
      ],
      "metadata": {
        "id": "Ad_rYxwh03G0"
      }
    },
    {
      "cell_type": "code",
      "source": [
        "model_4.evaluate(test_data)"
      ],
      "metadata": {
        "colab": {
          "base_uri": "https://localhost:8080/"
        },
        "id": "aEyWKAMGMjut",
        "outputId": "d238af03-4810-4c64-f994-202b5477f6b4"
      },
      "execution_count": 30,
      "outputs": [
        {
          "output_type": "stream",
          "name": "stdout",
          "text": [
            "\u001b[1m51/51\u001b[0m \u001b[32m━━━━━━━━━━━━━━━━━━━━\u001b[0m\u001b[37m\u001b[0m \u001b[1m10s\u001b[0m 149ms/step - accuracy: 0.8337 - loss: 0.4984\n"
          ]
        },
        {
          "output_type": "execute_result",
          "data": {
            "text/plain": [
              "[0.4912870228290558, 0.8338499665260315]"
            ]
          },
          "metadata": {},
          "execution_count": 30
        }
      ]
    },
    {
      "cell_type": "code",
      "source": [
        "model_3.evaluate(test_data)"
      ],
      "metadata": {
        "colab": {
          "base_uri": "https://localhost:8080/"
        },
        "id": "gCw8cRbzOatP",
        "outputId": "69dd3729-5b3a-43ae-c5a3-9d3746de772d"
      },
      "execution_count": null,
      "outputs": [
        {
          "output_type": "stream",
          "name": "stdout",
          "text": [
            "\u001b[1m51/51\u001b[0m \u001b[32m━━━━━━━━━━━━━━━━━━━━\u001b[0m\u001b[37m\u001b[0m \u001b[1m3s\u001b[0m 68ms/step - accuracy: 0.7860 - loss: 0.6789\n"
          ]
        },
        {
          "output_type": "execute_result",
          "data": {
            "text/plain": [
              "[0.6790036559104919, 0.7668939828872681]"
            ]
          },
          "metadata": {},
          "execution_count": 70
        }
      ]
    },
    {
      "cell_type": "markdown",
      "source": [
        "**~7% better accuracy using larger dataset for fine-tuning**"
      ],
      "metadata": {
        "id": "KYbsh7mVOe5M"
      }
    }
  ]
}